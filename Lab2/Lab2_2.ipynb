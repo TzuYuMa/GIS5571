{
 "cells": [
  {
   "cell_type": "markdown",
   "metadata": {},
   "source": [
    "### Part 2\n",
    "### Dory's optimal route"
   ]
  },
  {
   "cell_type": "code",
   "execution_count": 3,
   "metadata": {},
   "outputs": [],
   "source": [
    "# information about Dory's prefer\n",
    "start = \"44.127985, -92.148796\"\n",
    "end = \"44.05431509462441, -92.04443552409354\" # North Picnic area\n",
    "# Minnesota Digital Elevation Model - 30 Meter Resolution\n",
    "dem_url = \"https://resources.gisdata.mn.gov/pub/gdrs/data/pub/us_mn_state_dnr/elev_30m_digital_elevation_model/fgdb_elev_30m_digital_elevation_model.zip\"\n",
    "# NLCD 2019 Land Cover, Minnesota\n",
    "lc_url = \"https://resources.gisdata.mn.gov/pub/gdrs/data/pub/us_mn_state_dnr/biota_landcover_nlcd_mn_2019/tif_biota_landcover_nlcd_mn_2019.zip\"\n",
    "# MN road\n",
    "road_url =\"https://resources.gisdata.mn.gov/pub/gdrs/data/pub/us_mn_state_dot/trans_roads_centerlines/shp_trans_roads_centerlines.zip\"\n",
    "# bridge\n",
    "bridge_url = \"https://resources.gisdata.mn.gov/pub/gdrs/data/pub/us_mn_state_dot/trans_bridges/shp_trans_bridges.zip\"\n",
    "# water\n",
    "water_url = 'https://resources.gisdata.mn.gov/pub/gdrs/data/pub/us_mn_state_dnr/water_strahler_stream_order/shp_water_strahler_stream_order.zip'\n",
    "# counties\n",
    "county_url = \"https://resources.gisdata.mn.gov/pub/gdrs/data/pub/us_mn_state_dnr/bdry_counties_in_minnesota/shp_bdry_counties_in_minnesota.zip\""
   ]
  },
  {
   "cell_type": "code",
   "execution_count": 11,
   "metadata": {},
   "outputs": [],
   "source": [
    "import requests\n",
    "import zipfile\n",
    "import os\n",
    "import arcpy\n",
    "import numpy as np\n",
    "from arcpy.sa import *"
   ]
  },
  {
   "cell_type": "markdown",
   "metadata": {},
   "source": [
    "#### download data"
   ]
  },
  {
   "cell_type": "code",
   "execution_count": 11,
   "metadata": {},
   "outputs": [
    {
     "name": "stdout",
     "output_type": "stream",
     "text": [
      "Unzipped PRISM data to D:\\arc1\\lab2\\part2\\fgdb_elev_30m_digital_elevation_model\n"
     ]
    }
   ],
   "source": [
    "# download DEM and extract\n",
    "dem = requests.get(dem_url)\n",
    "\n",
    "with open (r\"D:\\arc1\\lab2\\part2\\fgdb_elev_30m_digital_elevation_model.zip\", \"wb\") as dem_df:\n",
    "    dem_df.write(dem.content)\n",
    "\n",
    "sub_dir = \"fgdb_elev_30m_digital_elevation_model\"\n",
    "unzip_path = os.path.join(r\"D:\\arc1\\lab2\\part2\", sub_dir)\n",
    "\n",
    "os.makedirs(unzip_path, exist_ok = True)\n",
    "\n",
    "with zipfile.ZipFile(r\"D:\\arc1\\lab2\\part2\\fgdb_elev_30m_digital_elevation_model.zip\", \"r\") as dem_zip:\n",
    "    dem_zip.extractall(unzip_path)\n",
    "    \n",
    "print(f\"Unzipped DEM data to {unzip_path}\")"
   ]
  },
  {
   "cell_type": "code",
   "execution_count": 13,
   "metadata": {},
   "outputs": [
    {
     "name": "stdout",
     "output_type": "stream",
     "text": [
      "Unzipped PRISM data to D:\\arc1\\lab2\\part2\\tif_biota_landcover_nlcd_mn_2019\n"
     ]
    }
   ],
   "source": [
    "# NLCD\n",
    "lc = requests.get(lc_url)\n",
    "\n",
    "with open (r\"D:\\arc1\\lab2\\part2\\tif_biota_landcover_nlcd_mn_2019.zip\", \"wb\") as lc_df:\n",
    "    lc_df.write(lc.content)\n",
    "\n",
    "sub_dir = \"tif_biota_landcover_nlcd_mn_2019\"\n",
    "unzip_path = os.path.join(r\"D:\\arc1\\lab2\\part2\", sub_dir)\n",
    "\n",
    "os.makedirs(unzip_path, exist_ok = True)\n",
    "\n",
    "with zipfile.ZipFile(r\"D:\\arc1\\lab2\\part2\\tif_biota_landcover_nlcd_mn_2019.zip\", \"r\") as lc_zip:\n",
    "    lc_zip.extractall(unzip_path)\n",
    "    \n",
    "print(f\"Unzipped NLCD data to {unzip_path}\")"
   ]
  },
  {
   "cell_type": "code",
   "execution_count": 14,
   "metadata": {},
   "outputs": [
    {
     "name": "stdout",
     "output_type": "stream",
     "text": [
      "Unzipped PRISM data to D:\\arc1\\lab2\\part2\\shp_trans_roads_centerlines\n"
     ]
    }
   ],
   "source": [
    "# road\n",
    "r = requests.get(road_url)\n",
    "\n",
    "with open (r\"D:\\arc1\\lab2\\part2\\shp_trans_roads_centerlines.zip\", \"wb\") as r_df:\n",
    "    r_df.write(r.content)\n",
    "\n",
    "sub_dir = \"shp_trans_roads_centerlines\"\n",
    "unzip_path = os.path.join(r\"D:\\arc1\\lab2\\part2\", sub_dir)\n",
    "\n",
    "os.makedirs(unzip_path, exist_ok = True)\n",
    "\n",
    "with zipfile.ZipFile(r\"D:\\arc1\\lab2\\part2\\shp_trans_roads_centerlines.zip\", \"r\") as r_zip:\n",
    "    r_zip.extractall(unzip_path)\n",
    "    \n",
    "print(f\"Unzipped road data to {unzip_path}\")"
   ]
  },
  {
   "cell_type": "code",
   "execution_count": 17,
   "metadata": {},
   "outputs": [
    {
     "name": "stdout",
     "output_type": "stream",
     "text": [
      "Unzipped PRISM data to D:\\arc1\\lab2\\part2\\shp_trans_bridges\n"
     ]
    }
   ],
   "source": [
    "# bridge\n",
    "b = requests.get(bridge_url)\n",
    "\n",
    "with open (r\"D:\\arc1\\lab2\\part2\\shp_trans_bridges.zip\", \"wb\") as b_df:\n",
    "    b_df.write(b.content)\n",
    "\n",
    "sub_dir = \"shp_trans_bridges\"\n",
    "unzip_path = os.path.join(r\"D:\\arc1\\lab2\\part2\", sub_dir)\n",
    "\n",
    "os.makedirs(unzip_path, exist_ok = True)\n",
    "\n",
    "with zipfile.ZipFile(r\"D:\\arc1\\lab2\\part2\\shp_trans_bridges.zip\", \"r\") as b_zip:\n",
    "    b_zip.extractall(unzip_path)\n",
    "    \n",
    "print(f\"Unzipped bridge data to {unzip_path}\")"
   ]
  },
  {
   "cell_type": "code",
   "execution_count": 4,
   "metadata": {},
   "outputs": [
    {
     "name": "stdout",
     "output_type": "stream",
     "text": [
      "Unzipped water data to D:\\arc1\\lab2\\part2\\shp_water_strahler_stream_order\n"
     ]
    }
   ],
   "source": [
    "# water\n",
    "water = requests.post(water_url)\n",
    "\n",
    "with open (r\"D:\\arc1\\lab2\\part2\\shp_water_strahler_stream_order.zip\", \"wb\") as w_df:\n",
    "    w_df.write(water.content)\n",
    "\n",
    "sub_dir = \"shp_water_strahler_stream_order\"\n",
    "unzip_path = os.path.join(r\"D:\\arc1\\lab2\\part2\", sub_dir)\n",
    "\n",
    "os.makedirs(unzip_path, exist_ok = True)\n",
    "\n",
    "with zipfile.ZipFile(r\"D:\\arc1\\lab2\\part2\\shp_water_strahler_stream_order.zip\", \"r\") as w_zip:\n",
    "    w_zip.extractall(unzip_path)\n",
    "    \n",
    "print(f\"Unzipped water data to {unzip_path}\")"
   ]
  },
  {
   "cell_type": "code",
   "execution_count": 6,
   "metadata": {},
   "outputs": [
    {
     "name": "stdout",
     "output_type": "stream",
     "text": [
      "Unzipped county data to D:\\arc1\\lab2\\part2\\shp_bdry_counties_in_minnesota\n"
     ]
    }
   ],
   "source": [
    "# counties\n",
    "c = requests.get(county_url)\n",
    "with open (r\"D:\\arc1\\lab2\\part2\\shp_bdry_counties_in_minnesota.zip\", 'wb') as c_zip:\n",
    "    c_zip.write(c.content)\n",
    "    \n",
    "sub_dir = \"shp_bdry_counties_in_minnesota\"\n",
    "unzip_path = os.path.join(r\"D:\\arc1\\lab2\\part2\", sub_dir)\n",
    "\n",
    "os.makedirs(unzip_path, exist_ok = True)\n",
    "\n",
    "with zipfile.ZipFile(r\"D:\\arc1\\lab2\\part2\\shp_bdry_counties_in_minnesota.zip\", \"r\") as c_ref:\n",
    "    c_ref.extractall(unzip_path)\n",
    "\n",
    "print(f\"Unzipped county data to {unzip_path}\")"
   ]
  },
  {
   "cell_type": "markdown",
   "metadata": {},
   "source": [
    "### prepare the study extent"
   ]
  },
  {
   "cell_type": "code",
   "execution_count": 8,
   "metadata": {},
   "outputs": [
    {
     "data": {
      "text/html": [
       "<div class='gpresult'><h2>Messages</h2><div id='messages' data-messages='[\"Start Time: 2023年10月29日 下午 02:58:32\",\"Succeeded at 2023年10月29日 下午 02:58:34 (Elapsed Time: 1.86 seconds)\"]' data-show='true'><div id = 'default' /></div></div>"
      ],
      "text/plain": [
       "<Result 'D:\\\\arc1\\\\lab2\\\\part2\\\\Lab2_2\\\\Lab2_2.gdb\\\\StudyExtent'>"
      ]
     },
     "execution_count": 8,
     "metadata": {},
     "output_type": "execute_result"
    }
   ],
   "source": [
    "# Create Study Extent (Feature Class to Feature Class)\n",
    "arcpy.conversion.FeatureClassToFeatureClass(r\"D:\\arc1\\lab2\\part2\\shp_bdry_counties_in_minnesota\\mn_county_boundaries.shp\", r\"D:\\arc1\\lab2\\part2\\Lab2_2\\Lab2_2.gdb\", \"StudyExtent\", \"CTY_NAME = 'Wabasha' Or CTY_NAME = 'Winona' Or CTY_NAME = 'Olmsted'\", 'AREA \"AREA\" true true false 19 Double 0 0,First,#,mn_county_boundaries,AREA,-1,-1;PERIMETER \"PERIMETER\" true true false 19 Double 0 0,First,#,mn_county_boundaries,PERIMETER,-1,-1;CTYONLY_ \"CTYONLY_\" true true false 19 Double 0 0,First,#,mn_county_boundaries,CTYONLY_,-1,-1;CTYONLY_ID \"CTYONLY_ID\" true true false 19 Double 0 0,First,#,mn_county_boundaries,CTYONLY_ID,-1,-1;COUN \"COUN\" true true false 4 Short 0 4,First,#,mn_county_boundaries,COUN,-1,-1;CTY_NAME \"CTY_NAME\" true true false 20 Text 0 0,First,#,mn_county_boundaries,CTY_NAME,0,20;CTY_ABBR \"CTY_ABBR\" true true false 4 Text 0 0,First,#,mn_county_boundaries,CTY_ABBR,0,4;CTY_FIPS \"CTY_FIPS\" true true false 4 Short 0 4,First,#,mn_county_boundaries,CTY_FIPS,-1,-1;Shape_Leng \"Shape_Leng\" true true false 19 Double 0 0,First,#,mn_county_boundaries,Shape_Leng,-1,-1;Shape_Area \"Shape_Area\" true true false 19 Double 0 0,First,#,mn_county_boundaries,Shape_Area,-1,-1', '')"
   ]
  },
  {
   "cell_type": "code",
   "execution_count": 9,
   "metadata": {},
   "outputs": [
    {
     "data": {
      "text/html": [
       "<div class='gpresult'><h2>Messages</h2><div id='messages' data-messages='[\"Start Time: 2023年10月29日 下午 02:59:16\",\"Dissolving...\",\"Succeeded at 2023年10月29日 下午 02:59:18 (Elapsed Time: 1.26 seconds)\"]' data-show='true'><div id = 'default' /></div></div>"
      ],
      "text/plain": [
       "<Result 'D:\\\\arc1\\\\lab2\\\\part2\\\\Lab2_2\\\\Lab2_2.gdb\\\\StudyExtent_Dissolve'>"
      ]
     },
     "execution_count": 9,
     "metadata": {},
     "output_type": "execute_result"
    }
   ],
   "source": [
    "# Dissolve County Boundaries \n",
    "arcpy.management.Dissolve(\"StudyExtent\", r\"D:\\arc1\\lab2\\part2\\Lab2_2\\Lab2_2.gdb\\StudyExtent_Dissolve\", None, None, \"MULTI_PART\", \"UNSPLIT_LINES\")"
   ]
  },
  {
   "cell_type": "markdown",
   "metadata": {},
   "source": [
    "### prepare water stream"
   ]
  },
  {
   "cell_type": "code",
   "execution_count": 11,
   "metadata": {},
   "outputs": [
    {
     "data": {
      "text/html": [
       "<div class='gpresult'><h2>Messages</h2><div id='messages' data-messages='[\"Start Time: 2023年10月29日 下午 03:07:35\",\"Analyzing input features...\",\"Dissolving clip features...\",\"Clipping input features...\",\"Succeeded at 2023年10月29日 下午 03:07:37 (Elapsed Time: 2.15 seconds)\"]' data-show='true'><div id = 'default' /></div></div>"
      ],
      "text/plain": [
       "<Result 'D:\\\\arc1\\\\lab2\\\\part2\\\\Lab2_2\\\\Lab2_2.gdb\\\\waterstream_Clip'>"
      ]
     },
     "execution_count": 11,
     "metadata": {},
     "output_type": "execute_result"
    }
   ],
   "source": [
    "# Clip Streams\n",
    "arcpy.analysis.Clip(\"streams_with_strahler_stream_order\", \"StudyExtent_Dissolve\", r\"D:\\arc1\\lab2\\part2\\Lab2_2\\Lab2_2.gdb\\waterstream_Clip\", None)"
   ]
  },
  {
   "cell_type": "code",
   "execution_count": 14,
   "metadata": {},
   "outputs": [
    {
     "data": {
      "text/html": [
       "<div class='gpresult'><h2>Messages</h2><div id='messages' data-messages='[\"Start Time: 2023年10月29日 下午 03:13:44\",\"Succeeded at 2023年10月29日 下午 03:13:47 (Elapsed Time: 3.41 seconds)\"]' data-show='true'><div id = 'default' /></div></div>"
      ],
      "text/plain": [
       "<Result 'D:\\\\arc1\\\\lab2\\\\part2\\\\Lab2_2\\\\Lab2_2.gdb\\\\Reclass_waterstream'>"
      ]
     },
     "execution_count": 14,
     "metadata": {},
     "output_type": "execute_result"
    }
   ],
   "source": [
    "# Feature to Raster \n",
    "arcpy.conversion.FeatureToRaster(\"waterstream_Clip\", \"SO_VALUE\", r\"D:\\arc1\\lab2\\part2\\Lab2_2\\Lab2_2.gdb\\Reclass_waterstream\")"
   ]
  },
  {
   "cell_type": "code",
   "execution_count": 15,
   "metadata": {},
   "outputs": [
    {
     "data": {
      "text/html": [
       "<div class='gpresult'><h2>Messages</h2><div id='messages' data-messages='[\"Start Time: 2023年10月29日 下午 03:14:31\",\"Succeeded at 2023年10月29日 下午 03:14:34 (Elapsed Time: 3.05 seconds)\"]' data-show='true'><div id = 'default' /></div></div>"
      ],
      "text/plain": [
       "<Result 'D:\\\\arc1\\\\lab2\\\\part2\\\\Lab2_2\\\\Lab2_2.gdb\\\\Reclass_Streams'>"
      ]
     },
     "execution_count": 15,
     "metadata": {},
     "output_type": "execute_result"
    }
   ],
   "source": [
    "# Reclassify Streams\n",
    "arcpy.ddd.Reclassify(\"Reclass_waterstream\", \"Value\", \"1 1;2 2;3 3;4 7;5 8;6 9;8 10\", r\"D:\\arc1\\lab2\\part2\\Lab2_2\\Lab2_2.gdb\\Reclass_Streams\", \"DATA\")"
   ]
  },
  {
   "cell_type": "markdown",
   "metadata": {},
   "source": [
    "### prepar landcover"
   ]
  },
  {
   "cell_type": "code",
   "execution_count": 35,
   "metadata": {},
   "outputs": [
    {
     "data": {
      "text/html": [
       "<div class='gpresult'><h2>Messages</h2><div id='messages' data-messages='[\"Start Time: 2023年10月29日 下午 03:47:08\",\"Building Pyramids...\",\"Succeeded at 2023年10月29日 下午 03:47:10 (Elapsed Time: 2.24 seconds)\"]' data-show='true'><div id = 'default' /></div></div>"
      ],
      "text/plain": [
       "<Result 'D:\\\\arc1\\\\lab2\\\\part2\\\\Lab2_2\\\\Lab2_2.gdb\\\\LandCover_clip'>"
      ]
     },
     "execution_count": 35,
     "metadata": {},
     "output_type": "execute_result"
    }
   ],
   "source": [
    "# Define the input raster dataset\n",
    "farm_field = r\"D:\\arc1\\lab2\\part2\\tif_biota_landcover_nlcd_mn_2019\\NLCD_2019_Land_Cover.tif\"\n",
    "\n",
    "# Define the output clipped raster\n",
    "output_clip = r\"D:\\arc1\\lab2\\part2\\Lab2_2\\Lab2_2.gdb\\LandCover_clip\"\n",
    "\n",
    "# Define the clipping feature\n",
    "clip_feature = \"StudyExtent_Dissolve\"\n",
    "\n",
    "# Perform the clip operation\n",
    "arcpy.management.Clip(farm_field, clip_feature, output_clip)"
   ]
  },
  {
   "cell_type": "code",
   "execution_count": 36,
   "metadata": {},
   "outputs": [
    {
     "data": {
      "text/html": [
       "<div class='gpresult'><h2>Messages</h2><div id='messages' data-messages='[\"Start Time: 2023年10月29日 下午 03:49:23\",\"Succeeded at 2023年10月29日 下午 03:49:25 (Elapsed Time: 1.57 seconds)\"]' data-show='true'><div id = 'default' /></div></div>"
      ],
      "text/plain": [
       "<Result 'D:\\\\arc1\\\\lab2\\\\part2\\\\Lab2_2\\\\Lab2_2.gdb\\\\Reclass_NLCD'>"
      ]
     },
     "execution_count": 36,
     "metadata": {},
     "output_type": "execute_result"
    }
   ],
   "source": [
    "# Reclassify Landcover\n",
    "#farm_field_reclass = arcpy.sa.Reclassify(\"LandCover_clip.tif\", \"Value\", \"1 81 1;82 2;83 255 1\", \"DATA\")\n",
    "\n",
    "# Reclassify NLCD\n",
    "arcpy.ddd.Reclassify(\"LandCover_clip\", \"NLCD_Land\", \"'Open Water' 10;'Developed, Open Space' 2;'Developed, Low Intensity' 2;'Developed, Medium Intensity' 2;'Developed, High Intensity' 2;'Barren Land' 5;'Deciduous Forest' 7;'Evergreen Forest' 7;'Mixed Forest' 7;Shrub/Scrub 7;Herbaceous 7;Hay/Pasture 9;'Cultivated Crops' 9;'Woody Wetlands' 10;'Emergent Herbaceous Wetlands' 10\", r\"D:\\arc1\\lab2\\part2\\Lab2_2\\Lab2_2.gdb\\Reclass_NLCD\", \"DATA\")"
   ]
  },
  {
   "cell_type": "markdown",
   "metadata": {},
   "source": [
    "### prepare slope"
   ]
  },
  {
   "cell_type": "code",
   "execution_count": 38,
   "metadata": {},
   "outputs": [
    {
     "data": {
      "text/html": [
       "<div class='gpresult'><h2>Messages</h2><div id='messages' data-messages='[\"Start Time: 2023年10月29日 下午 08:43:53\",\"Building Pyramids...\",\"Succeeded at 2023年10月29日 下午 08:43:55 (Elapsed Time: 2.46 seconds)\"]' data-show='true'><div id = 'default' /></div></div>"
      ],
      "text/plain": [
       "<Result 'D:\\\\arc1\\\\lab2\\\\part2\\\\Lab2_2\\\\Lab2_2.gdb\\\\DEM_clip'>"
      ]
     },
     "execution_count": 38,
     "metadata": {},
     "output_type": "execute_result"
    }
   ],
   "source": [
    "# Define the input raster dataset\n",
    "DEM = r\"D:\\arc1\\lab2\\part2\\fgdb_elev_30m_digital_elevation_model\\elev_30m_digital_elevation_model.gdb\\digital_elevation_model_30m\"\n",
    "\n",
    "# Define the output clipped raster\n",
    "output_clip = r\"D:\\arc1\\lab2\\part2\\Lab2_2\\Lab2_2.gdb\\DEM_clip\"\n",
    "\n",
    "# Define the clipping feature\n",
    "clip_feature = \"StudyExtent_Dissolve\"\n",
    "\n",
    "# Perform the clip operation\n",
    "arcpy.management.Clip(DEM , clip_feature, output_clip)"
   ]
  },
  {
   "cell_type": "code",
   "execution_count": 39,
   "metadata": {},
   "outputs": [],
   "source": [
    "# Calculate Slope\n",
    "slope_name = r\"D:\\arc1\\lab2\\part2\\Lab2_2\\Lab2_2.gdb\\DEM_clip\\slope\"\n",
    "\n",
    "slope = arcpy.sa.Slope(\"DEM_clip\", \"DEGREE\", 1, \"PLANAR\", \"METER\")\n",
    "\n",
    "slope.save(slope_name)"
   ]
  },
  {
   "cell_type": "code",
   "execution_count": 41,
   "metadata": {},
   "outputs": [],
   "source": [
    "# Reclassify Slope\n",
    "Reclass_slope = arcpy.sa.Reclassify(\"slope\", \"VALUE\", \"0 5 5;5 10 4;10 15 3;15 20 2;20 90 1\", \"DATA\") \n"
   ]
  },
  {
   "cell_type": "markdown",
   "metadata": {},
   "source": [
    "### create start & end points"
   ]
  },
  {
   "cell_type": "code",
   "execution_count": 58,
   "metadata": {},
   "outputs": [
    {
     "data": {
      "text/html": [
       "<div class='gpresult'><h2>Messages</h2><div id='messages' data-messages='[\"Start Time: 2023年10月29日 下午 11:32:55\",\"Succeeded at 2023年10月29日 下午 11:32:56 (Elapsed Time: 1.37 seconds)\"]' data-show='true'><div id = 'default' /></div></div>"
      ],
      "text/plain": [
       "<Result 'D:\\\\arc1\\\\lab2\\\\part2\\\\Lab2_2\\\\Lab2_2.gdb\\\\Start_Point'>"
      ]
     },
     "execution_count": 58,
     "metadata": {},
     "output_type": "execute_result"
    }
   ],
   "source": [
    "# Create start point\n",
    "start = arcpy.Point(44.127985, -92.148796)\n",
    "\n",
    "# Create a point geometry\n",
    "start_point = arcpy.PointGeometry(start, arcpy.SpatialReference(4326))\n",
    "# Save the point geometry to a feature class\n",
    "output_fc = r\"D:\\arc1\\lab2\\part2\\Lab2_2\\Lab2_2.gdb\\Start_Point\"\n",
    "\n",
    "arcpy.CopyFeatures_management(start_point, output_fc)"
   ]
  },
  {
   "cell_type": "code",
   "execution_count": 60,
   "metadata": {},
   "outputs": [
    {
     "data": {
      "text/html": [
       "<div class='gpresult'><h2>Messages</h2><div id='messages' data-messages='[\"Start Time: 2023年10月29日 下午 11:40:44\",\"Succeeded at 2023年10月29日 下午 11:40:45 (Elapsed Time: 1.50 seconds)\"]' data-show='true'><div id = 'default' /></div></div>"
      ],
      "text/plain": [
       "<Result 'D:\\\\arc1\\\\lab2\\\\part2\\\\Lab2_2\\\\Lab2_2.gdb\\\\End_Point'>"
      ]
     },
     "execution_count": 60,
     "metadata": {},
     "output_type": "execute_result"
    }
   ],
   "source": [
    "# Create end point\n",
    "end = arcpy.Point(44.05431509462441, -92.04443552409354)\n",
    "\n",
    "# Create a point geometry\n",
    "end_point = arcpy.PointGeometry(end, arcpy.SpatialReference(4326))\n",
    "# Save the point geometry to a feature class\n",
    "output_fc = r\"D:\\arc1\\lab2\\part2\\Lab2_2\\Lab2_2.gdb\\End_Point\"\n",
    "\n",
    "arcpy.CopyFeatures_management(end_point, output_fc)"
   ]
  },
  {
   "cell_type": "code",
   "execution_count": 21,
   "metadata": {},
   "outputs": [],
   "source": [
    "# create rasters from starting point and end point\n",
    "\n",
    "#buffer to give pointts dimensions, I buffered with a 30 m radius to give at least 4 pixels to the points\n",
    "arcpy.analysis.Buffer(\"Start_Point\", r\"D:\\arc1\\lab2\\part2\\Lab2_2\\Lab2_2.gdb\\start_point_Buffer\", \"0.05 Decimal Degrees\", \"FULL\", \"ROUND\", \"NONE\", None, \"PLANAR\")"
   ]
  },
  {
   "cell_type": "code",
   "execution_count": null,
   "metadata": {},
   "outputs": [],
   "source": [
    "#Convert buffered points to rasters\n",
    "arcpy.conversion.FeatureToRaster(\"start_point_Buffer\", \"Shape_Length\", r\"D:\\arc1\\lab2\\part2\\Lab2_2\\Lab2_2.gdb\\Start_Point_Buffer_PolygonToRaster\")"
   ]
  },
  {
   "cell_type": "code",
   "execution_count": null,
   "metadata": {},
   "outputs": [],
   "source": [
    "#buffer end point\n",
    "arcpy.analysis.Buffer(\"End_Point\", r\"D:\\arc1\\lab2\\part2\\Lab2_2\\Lab2_2.gdb\\end_point_Buffer\", \"0.05 Decimal Degrees\", \"FULL\", \"ROUND\", \"NONE\", None, \"PLANAR\")\n",
    "\n",
    "#Convert buffered points to rasters\n",
    "arcpy.conversion.FeatureToRaster(\"end_point_Buffer\", \"Shape_Length\", r\"D:\\arc1\\lab2\\part2\\Lab2_2\\Lab2_2.gdb\\End_Point_Buffer_PolygonToRaster\")"
   ]
  },
  {
   "cell_type": "markdown",
   "metadata": {},
   "source": [
    "### cost surface model"
   ]
  },
  {
   "cell_type": "code",
   "execution_count": 22,
   "metadata": {},
   "outputs": [],
   "source": [
    "# Set local variables for input rasters\n",
    "inRaster1 = \"Reclass_slope\"\n",
    "inRaster2 = \"Reclass_NLCD\"\n",
    "inRaster3 = \"Reclass_Streams\"\n",
    "\n",
    "# Remap values for each raster\n",
    "remapslope = RemapValue([[1, 1], [2, 2], [3, 3], [4, 4], [5, 5], [\"NODATA\", \"NODATA\"]])\n",
    "remapNLCD = RemapValue([[2, 2], [5, 5], [7, 7], [9, 9], [10, 10],[\"NODATA\", \"Restricted\"]])\n",
    "remapstream = RemapValue([[1, 1], [2, 2], [3, 3], [7, 7], [8, 8], [9, 9], [10, 10], [\"NODATA\", \"NODATA\"]])\n",
    "\n",
    "# Create a Weighted Overlay table\n",
    "myWOTable = WOTable([[inRaster1, 50, \"VALUE\", remapslope],\n",
    "                     [inRaster2, 20, \"VALUE\", remapNLCD], \n",
    "                     [inRaster3, 30, \"VALUE\", remapstream]\n",
    "                    ], [1, 10, 1])\n",
    "\n",
    "# Execute WeightedOverlay\n",
    "outWeightedOverlay = WeightedOverlay(myWOTable)\n",
    "\n",
    "# Save the output\n",
    "outWeightedOverlay.save(r\"D:\\arc1\\lab2\\part2\\Lab2_2\\Lab2_2.gdb\\weighted1\")\n"
   ]
  },
  {
   "cell_type": "code",
   "execution_count": 19,
   "metadata": {},
   "outputs": [],
   "source": [
    "# Cost Distance\n",
    "Cost_Distance = arcpy.sa.CostDistance(\"Start_Point_Buffer_PolygonToRaster\", \"weighted1\", None, r\"D:\\arc1\\lab2\\part2\\Lab2_2\\Lab2_2.gdb\\Direction_Raster\", None, None, None, None, ''); Cost_Distance.save(r\"D:\\arc1\\lab2\\part2\\Lab2_2\\Lab2_2.gdb\\CostDis\")"
   ]
  },
  {
   "cell_type": "code",
   "execution_count": 20,
   "metadata": {},
   "outputs": [],
   "source": [
    "# Cost Path (Best Single) \n",
    "Cost_Path = arcpy.sa.CostPath(r\"D:\\arc1\\lab2\\part2\\Lab2_2\\Lab2_2.gdb\\End_RasterPoint\", \"CostDis\", \"Direction_Raster\", \"BEST_SINGLE\", 'OBJECTID', 'FLOW_DIRECTION'); Cost_Path.save(r\"D:\\arc1\\lab2\\part2\\Lab2_2\\Lab2_2.gdb\\CostPath1\")"
   ]
  }
 ],
 "metadata": {
  "kernelspec": {
   "display_name": "ArcGISPro",
   "language": "Python",
   "name": "python3"
  },
  "language_info": {
   "file_extension": ".py",
   "name": "python",
   "version": "3"
  }
 },
 "nbformat": 4,
 "nbformat_minor": 2
}
