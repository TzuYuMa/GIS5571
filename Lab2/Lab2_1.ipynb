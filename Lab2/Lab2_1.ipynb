{
 "cells": [
  {
   "cell_type": "markdown",
   "metadata": {},
   "source": [
    "# GIS 5571 Lab2\n",
    "### Tzu Yu Ma\n",
    "### October 31, 2023"
   ]
  },
  {
   "cell_type": "markdown",
   "metadata": {},
   "source": [
    "### Part 1"
   ]
  },
  {
   "cell_type": "markdown",
   "metadata": {},
   "source": [
    "#### Downloads .LAS files from MN DNR"
   ]
  },
  {
   "cell_type": "code",
   "execution_count": 1,
   "metadata": {},
   "outputs": [],
   "source": [
    "import arcpy\n",
    "import requests\n",
    "import os\n",
    "import subprocess"
   ]
  },
  {
   "cell_type": "code",
   "execution_count": 2,
   "metadata": {},
   "outputs": [],
   "source": [
    "county_name = 'aitkin'\n",
    "tile_number = '1942-32-08'"
   ]
  },
  {
   "cell_type": "code",
   "execution_count": 3,
   "metadata": {},
   "outputs": [
    {
     "name": "stdout",
     "output_type": "stream",
     "text": [
      "Downloaded D:\\arc1\\lab2\\aitkin_1942-32-08.laz\n"
     ]
    }
   ],
   "source": [
    "# Define the URL for the LiDAR data repository\n",
    "download_url = f'https://resources.gisdata.mn.gov/pub/data/elevation/lidar/county/{county_name}/laz/{tile_number}.laz'\n",
    "\n",
    "# Function to download the LiDAR data\n",
    "def download_laz_files(download_url, save_path):\n",
    "    response = requests.get(download_url)\n",
    "    if response.status_code == 200:\n",
    "        with open(save_path, 'wb') as laz_file:\n",
    "            laz_file.write(response.content)\n",
    "            print(f'Downloaded {save_path}')\n",
    "    else:\n",
    "        print('Failed to download .LAZ file')\n",
    "\n",
    "# Specify the local path where you want to save the downloaded LiDAR data\n",
    "save_path = f'D:\\\\arc1\\\\lab2\\\\{county_name}_{tile_number}.laz'\n",
    "\n",
    "# Call the download_laz_files function\n",
    "download_laz_files(download_url, save_path)"
   ]
  },
  {
   "cell_type": "code",
   "execution_count": 4,
   "metadata": {},
   "outputs": [
    {
     "name": "stdout",
     "output_type": "stream",
     "text": [
      "Downloaded unziplas.bat to D:\\arc1\\lab2\\\n",
      "Downloaded laszip.exe to D:\\arc1\\lab2\\\n",
      "Downloaded las2las.exe to D:\\arc1\\lab2\\\n",
      "Download completed.\n"
     ]
    }
   ],
   "source": [
    "#download lastool\n",
    "tool_url = 'https://resources.gisdata.mn.gov/pub/data/elevation/lidar/tools/lastools/'\n",
    "download_dir = 'D:\\\\arc1\\\\lab2\\\\'  # 修改为您要保存文件的实际目录\n",
    "\n",
    "# tool in the file\n",
    "tool_files = ['unziplas.bat', 'laszip.exe', 'las2las.exe']\n",
    "\n",
    "# download all the file (not sure which one can unzip)\n",
    "for tool_file in tool_files:\n",
    "    download_url = tool_url + tool_file\n",
    "    save_path = os.path.join(download_dir, tool_file)\n",
    "    \n",
    "    response = requests.get(download_url)\n",
    "    \n",
    "    if response.status_code == 200:\n",
    "        with open(save_path, 'wb') as f:\n",
    "            f.write(response.content)\n",
    "        print(f'Downloaded {tool_file} to {download_dir}')\n",
    "    else:\n",
    "        print(f'Failed to download {tool_file}')\n",
    "\n",
    "print(\"Download completed.\")"
   ]
  },
  {
   "cell_type": "code",
   "execution_count": 5,
   "metadata": {},
   "outputs": [
    {
     "name": "stdout",
     "output_type": "stream",
     "text": [
      "Successfully converted D:\\arc1\\lab2\\aitkin_1942-32-08.laz to D:\\arc1\\lab2\\aitkin_1942-32-08.las\n"
     ]
    }
   ],
   "source": [
    "# use the lastool\n",
    "laszip_exe = 'D:/arc1/lab2/laszip.exe'  \n",
    "\n",
    "input_laz_file = f'D:\\\\arc1\\\\lab2\\\\{county_name}_{tile_number}.laz'  \n",
    "output_las_file = f'D:\\\\arc1\\\\lab2\\\\{county_name}_{tile_number}.las'  \n",
    "\n",
    "# use subprocess to excute the tool\n",
    "laszip_command = f'\"{laszip_exe}\" -i \"{input_laz_file}\" -o \"{output_las_file}\"'\n",
    "subprocess.run(laszip_command, shell=True)\n",
    "\n",
    "# check\n",
    "if os.path.exists(output_las_file):\n",
    "    print(f'Successfully converted {input_laz_file} to {output_las_file}')\n",
    "else:\n",
    "    print('Conversion failed. Check the laszip.exe path and file paths.')\n"
   ]
  },
  {
   "cell_type": "markdown",
   "metadata": {},
   "source": [
    "#### Converts the .LAS file into both a DEM and a TIN\n"
   ]
  },
  {
   "cell_type": "code",
   "execution_count": 6,
   "metadata": {},
   "outputs": [
    {
     "data": {
      "text/html": [
       "<div class='gpresult'><h2>Messages</h2><div id='messages' data-messages='[\"Start Time: 2023年10月29日 上午 01:20:41\",\"Succeeded at 2023年10月29日 上午 01:20:42 (Elapsed Time: 1.89 seconds)\"]' data-show='true'><div id = 'default' /></div></div>"
      ],
      "text/plain": [
       "<Result 'D:\\\\arc1\\\\lab2\\\\aitkin_1942-32-08.tif'>"
      ]
     },
     "execution_count": 6,
     "metadata": {},
     "output_type": "execute_result"
    }
   ],
   "source": [
    "las_file = f'D:\\\\arc1\\\\lab2\\\\{county_name}_{tile_number}.las'\n",
    "dem_file = f'D:\\\\arc1\\\\lab2\\\\{county_name}_{tile_number}.tif'\n",
    "tin_file = f'D:\\\\arc1\\\\lab2\\\\{county_name}_{tile_number}.tin'\n",
    "sr = 'EPSG:4326'\n",
    "\n",
    "# create las dataset\n",
    "las_dataset = arcpy.management.CreateLasDataset(las_file, 'las_dataset', '')\n",
    "\n",
    "# convert to TIN\n",
    "arcpy.ddd.LasDatasetToTin(las_dataset, tin_file, 'WINDOW_SIZE', 0.1, '', '', '')\n",
    "\n",
    "# concert to DEM\n",
    "arcpy.conversion.LasDatasetToRaster(las_dataset, dem_file)"
   ]
  },
  {
   "cell_type": "markdown",
   "metadata": {},
   "source": [
    "#### Exports PDFs of the DEM and TIN with correct visualization"
   ]
  },
  {
   "cell_type": "code",
   "execution_count": 4,
   "metadata": {},
   "outputs": [
    {
     "data": {
      "text/plain": [
       "'D:\\\\arc1\\\\lab2\\\\aitkin_1942-32-08_tin.pdf'"
      ]
     },
     "execution_count": 4,
     "metadata": {},
     "output_type": "execute_result"
    }
   ],
   "source": [
    "# Set APRX and Layout\n",
    "aprx = arcpy.mp.ArcGISProject('CURRENT')\n",
    "layout_name = 'TIN'\n",
    "tin_lyt = aprx.listLayouts(layout_name)[0]\n",
    "\n",
    "# Export Layout to PDF\n",
    "tin_lyt.exportToPDF(f'D:\\\\arc1\\\\lab2\\\\{county_name}_{tile_number}_tin.pdf', resolution = 300)"
   ]
  },
  {
   "cell_type": "code",
   "execution_count": 8,
   "metadata": {},
   "outputs": [
    {
     "data": {
      "text/plain": [
       "'D:\\\\arc1\\\\lab2\\\\aitkin_1942-32-08_dem.pdf'"
      ]
     },
     "execution_count": 8,
     "metadata": {},
     "output_type": "execute_result"
    }
   ],
   "source": [
    "# Set APRX and Layout\n",
    "aprx = arcpy.mp.ArcGISProject('CURRENT')\n",
    "dem_lyt = aprx.listLayouts('DEM')[0]\n",
    "\n",
    "# Export Layout to PDF\n",
    "dem_lyt.exportToPDF(f'D:\\\\arc1\\\\lab2\\\\{county_name}_{tile_number}_dem.pdf', resolution = 300)"
   ]
  },
  {
   "cell_type": "code",
   "execution_count": 9,
   "metadata": {},
   "outputs": [],
   "source": [
    "# print out the layout name I have in this aprx\n",
    "aprx = arcpy.mp.ArcGISProject(\"CURRENT\")\n",
    "\n",
    "layout_names = [layout.name for layout in aprx.listLayouts()]\n",
    "#print(layout_names)"
   ]
  },
  {
   "cell_type": "markdown",
   "metadata": {},
   "source": [
    "### Do 2D & 3D visualization"
   ]
  },
  {
   "cell_type": "code",
   "execution_count": null,
   "metadata": {},
   "outputs": [],
   "source": [
    "# use Global Scence to convert"
   ]
  },
  {
   "cell_type": "markdown",
   "metadata": {},
   "source": [
    "### ETL for PRISM"
   ]
  },
  {
   "cell_type": "code",
   "execution_count": 11,
   "metadata": {},
   "outputs": [],
   "source": [
    "from zipfile import ZipFile"
   ]
  },
  {
   "cell_type": "markdown",
   "metadata": {},
   "source": [
    "#### download PRISM data"
   ]
  },
  {
   "cell_type": "code",
   "execution_count": 12,
   "metadata": {},
   "outputs": [
    {
     "name": "stdout",
     "output_type": "stream",
     "text": [
      "new folder 'data' successfully created.\n",
      "new folder 'PRISM' successfully created.\n"
     ]
    }
   ],
   "source": [
    "# create new folder\n",
    "base_path = 'D:\\\\arc1\\\\lab2'\n",
    "folder_name = 'data'\n",
    "\n",
    "folder_path = os.path.join(base_path, folder_name)\n",
    "os.mkdir(folder_path)\n",
    "print(f\"new folder '{folder_name}' successfully created.\")\n",
    "\n",
    "parentfolder_path = 'D:\\\\arc1\\\\lab2\\\\data'\n",
    "prism_folder_name = 'PRISM'\n",
    "\n",
    "prism_folder_path = os.path.join(parentfolder_path, prism_folder_name)\n",
    "os.mkdir(prism_folder_path)\n",
    "print(f\"new folder '{prism_folder_name}' successfully created.\")"
   ]
  },
  {
   "cell_type": "code",
   "execution_count": 13,
   "metadata": {},
   "outputs": [
    {
     "name": "stdout",
     "output_type": "stream",
     "text": [
      "Downloaded PRISM data to D:\\arc1\\lab2\\data\\PRISM\\PRISM_ppt_30yr_normal_4kmM4_all_bil.zip\n",
      "Download completed.\n"
     ]
    }
   ],
   "source": [
    "prism_url = 'https://ftp.prism.oregonstate.edu/normals_4km/ppt/PRISM_ppt_30yr_normal_4kmM4_all_bil.zip'\n",
    "save_path = 'D:\\\\arc1\\\\lab2\\\\data\\\\PRISM'\n",
    "\n",
    "prism_response = requests.get(prism_url)\n",
    "\n",
    "if prism_response.status_code == 200:\n",
    "    file_path = os.path.join(save_path, 'PRISM_ppt_30yr_normal_4kmM4_all_bil.zip')\n",
    "\n",
    "    with open(file_path, 'wb') as f:\n",
    "        f.write(prism_response.content)\n",
    "    \n",
    "    print(f'Downloaded PRISM data to {file_path}')\n",
    "else:\n",
    "    print('Failed to download')\n",
    "\n",
    "print(\"Download completed.\")\n"
   ]
  },
  {
   "cell_type": "code",
   "execution_count": 14,
   "metadata": {},
   "outputs": [
    {
     "name": "stdout",
     "output_type": "stream",
     "text": [
      "Unzipped PRISM data to D:\\arc1\\lab2\\data\\PRISM\\PRISM_ppt_30yr_normal_4kmM4_all_bil\n"
     ]
    }
   ],
   "source": [
    "# unzipped \n",
    "zip_file_path = 'D:\\\\arc1\\\\lab2\\\\data\\\\PRISM\\\\PRISM_ppt_30yr_normal_4kmM4_all_bil.zip'\n",
    "\n",
    "subdirectory_name = 'PRISM_ppt_30yr_normal_4kmM4_all_bil'  \n",
    "unzip_dir = os.path.join('D:\\\\arc1\\\\lab2\\\\data\\\\PRISM', subdirectory_name)\n",
    "\n",
    "os.makedirs(unzip_dir, exist_ok=True) # make sure the PRISM folder is there \n",
    "\n",
    "with ZipFile(zip_file_path, 'r') as zip_ref:\n",
    "    zip_ref.extractall(unzip_dir)\n",
    "\n",
    "print(f'Unzipped PRISM data to {unzip_dir}')"
   ]
  },
  {
   "cell_type": "markdown",
   "metadata": {},
   "source": [
    "#### Converting to Spacetime Cube"
   ]
  },
  {
   "cell_type": "code",
   "execution_count": 2,
   "metadata": {},
   "outputs": [
    {
     "name": "stdout",
     "output_type": "stream",
     "text": [
      "created: D:\\arc1\\lab2\\data\\PRISM\\PRISM.gdb\n"
     ]
    }
   ],
   "source": [
    "# create gdb\n",
    "gdb_path = r'D:\\arc1\\lab2\\data\\PRISM\\PRISM.gdb'\n",
    "\n",
    "arcpy.management.CreateFileGDB(r'D:\\arc1\\lab2\\data\\PRISM', 'PRISM.gdb')\n",
    "\n",
    "print(f'created: {gdb_path}')"
   ]
  },
  {
   "cell_type": "code",
   "execution_count": 3,
   "metadata": {},
   "outputs": [],
   "source": [
    "# Create Empty Mosaic\n",
    "sr = arcpy.SpatialReference(4326)  \n",
    "empty_mosaic = arcpy.management.CreateMosaicDataset(r'D:\\arc1\\lab2\\data\\PRISM\\PRISM.gdb','prism_mosaic',sr)"
   ]
  },
  {
   "cell_type": "code",
   "execution_count": 4,
   "metadata": {},
   "outputs": [],
   "source": [
    "#  Add Rasters to Mosaic Dataset\n",
    "mosaic = arcpy.management.AddRastersToMosaicDataset(empty_mosaic, 'Raster Dataset', r'D:\\arc1\\lab2\\data\\PRISM\\PRISM_ppt_30yr_normal_4kmM4_all_bil')"
   ]
  },
  {
   "cell_type": "code",
   "execution_count": 5,
   "metadata": {},
   "outputs": [
    {
     "data": {
      "text/html": [
       "<div class='gpresult'><h2>Messages</h2><div id='messages' data-messages='[\"Start Time: 2023年10月29日 上午 12:05:48\",\"Adding Variable to AMD_prism_mosaic_CAT...\",\"Succeeded at 2023年10月29日 上午 12:05:49 (Elapsed Time: 0.57 seconds)\"]' data-show='true'><div id = 'default' /></div></div>"
      ],
      "text/plain": [
       "<Result 'prism_mosaic\\\\Footprint'>"
      ]
     },
     "execution_count": 5,
     "metadata": {},
     "output_type": "execute_result"
    }
   ],
   "source": [
    "# Create and populate a Variable field in the mosaic Footprints table\n",
    "arcpy.management.CalculateField(r'prism_mosaic\\Footprint', 'Variable', '\"Text\"', \"PYTHON3\")\n"
   ]
  },
  {
   "cell_type": "code",
   "execution_count": 6,
   "metadata": {},
   "outputs": [
    {
     "data": {
      "text/html": [
       "<div class='gpresult'><h2>Messages</h2><div id='messages' data-messages='[\"Start Time: 2023年10月29日 上午 12:06:32\",\"Adding Timestamp to AMD_prism_mosaic_CAT...\",\"Succeeded at 2023年10月29日 上午 12:06:32 (Elapsed Time: 0.48 seconds)\"]' data-show='true'><div id = 'default' /></div></div>"
      ],
      "text/plain": [
       "<Result 'prism_mosaic\\\\Footprint'>"
      ]
     },
     "execution_count": 6,
     "metadata": {},
     "output_type": "execute_result"
    }
   ],
   "source": [
    "# Create and populate a Timestamp field in the mosaic Footprints table\n",
    "arcpy.management.CalculateField(r'prism_mosaic\\Footprint', 'Timestamp', \"DateAdd(Date(2023, 0, 1), $feature.OBJECTID-1, 'month')\", 'ARCADE','', 'DATE')"
   ]
  },
  {
   "cell_type": "code",
   "execution_count": 7,
   "metadata": {},
   "outputs": [
    {
     "data": {
      "text/html": [
       "<div class='gpresult'><h2>Messages</h2><div id='messages' data-messages='[\"Start Time: 2023年10月29日 上午 12:06:34\",\"Succeeded at 2023年10月29日 上午 12:06:36 (Elapsed Time: 1.60 seconds)\"]' data-show='true'><div id = 'default' /></div></div>"
      ],
      "text/plain": [
       "<Result 'prism_mosaic'>"
      ]
     },
     "execution_count": 7,
     "metadata": {},
     "output_type": "execute_result"
    }
   ],
   "source": [
    "# using the Build Multidimensional Info to enable the Time mosaic\n",
    "arcpy.management.BuildMultidimensionalInfo('prism_mosaic', 'Variable', 'Timestamp')"
   ]
  },
  {
   "cell_type": "code",
   "execution_count": 8,
   "metadata": {},
   "outputs": [],
   "source": [
    "# using the Make Multidimensional Raster Layer tool Convert the time-enabled mosaic\n",
    "ml = arcpy.md.MakeMultidimensionalRasterLayer('prism_mosaic', r'D:\\arc1\\lab2\\data\\PRISM\\prism_ml', None)"
   ]
  },
  {
   "cell_type": "code",
   "execution_count": 9,
   "metadata": {},
   "outputs": [],
   "source": [
    "#  Create Space Time Cube from Multidimensional Raster Layer \n",
    "stc = arcpy.stpm.CreateSpaceTimeCubeMDRasterLayer(ml, r'D:\\arc1\\lab2\\data\\PRISM\\prism_stc.nc', 'ZEROS')"
   ]
  },
  {
   "cell_type": "markdown",
   "metadata": {},
   "source": [
    "#### Export an animation of the timeseries"
   ]
  }
 ],
 "metadata": {
  "kernelspec": {
   "display_name": "ArcGISPro",
   "language": "Python",
   "name": "python3"
  },
  "language_info": {
   "file_extension": ".py",
   "name": "python",
   "version": "3"
  }
 },
 "nbformat": 4,
 "nbformat_minor": 2
}
