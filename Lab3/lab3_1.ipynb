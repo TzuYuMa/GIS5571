{
 "cells": [
  {
   "cell_type": "markdown",
   "metadata": {},
   "source": [
    "# Find cost path from Lidar data and different weights\n",
    "### GIS 5571 Lab 3 part1\n",
    "#### Tzu Yu Ma\n",
    "#### November 28"
   ]
  },
  {
   "cell_type": "code",
   "execution_count": 1,
   "metadata": {},
   "outputs": [],
   "source": [
    "# information about Dory's prefer\n",
    "start = \"44.127985, -92.148796\"\n",
    "end = \"44.05431509462441, -92.04443552409354\" # North Picnic area\n",
    "# Minnesota Digital Elevation Model - 30 Meter Resolution\n",
    "dem_url = \"https://resources.gisdata.mn.gov/pub/gdrs/data/pub/us_mn_state_dnr/elev_30m_digital_elevation_model/fgdb_elev_30m_digital_elevation_model.zip\"\n",
    "# NLCD 2019 Land Cover, Minnesota\n",
    "lc_url = \"https://resources.gisdata.mn.gov/pub/gdrs/data/pub/us_mn_state_dnr/biota_landcover_nlcd_mn_2019/tif_biota_landcover_nlcd_mn_2019.zip\"\n",
    "# water\n",
    "water_url = 'https://resources.gisdata.mn.gov/pub/gdrs/data/pub/us_mn_state_dnr/water_strahler_stream_order/shp_water_strahler_stream_order.zip'\n",
    "# counties\n",
    "county_url = \"https://resources.gisdata.mn.gov/pub/gdrs/data/pub/us_mn_state_dnr/bdry_counties_in_minnesota/shp_bdry_counties_in_minnesota.zip\""
   ]
  },
  {
   "cell_type": "code",
   "execution_count": null,
   "metadata": {},
   "outputs": [],
   "source": [
    "import requests\n",
    "import zipfile\n",
    "import os\n",
    "import arcpy\n",
    "import numpy as np\n",
    "from arcpy.sa import *"
   ]
  },
  {
   "cell_type": "markdown",
   "metadata": {},
   "source": [
    "#### download data"
   ]
  },
  {
   "cell_type": "code",
   "execution_count": null,
   "metadata": {},
   "outputs": [],
   "source": [
    "# download DEM and extract\n",
    "dem = requests.get(dem_url)\n",
    "\n",
    "with open (r\"D:\\arc1\\lab2\\part2\\fgdb_elev_30m_digital_elevation_model.zip\", \"wb\") as dem_df:\n",
    "    dem_df.write(dem.content)\n",
    "\n",
    "sub_dir = \"fgdb_elev_30m_digital_elevation_model\"\n",
    "unzip_path = os.path.join(r\"D:\\arc1\\lab2\\part2\", sub_dir)\n",
    "\n",
    "os.makedirs(unzip_path, exist_ok = True)\n",
    "\n",
    "with zipfile.ZipFile(r\"D:\\arc1\\lab2\\part2\\fgdb_elev_30m_digital_elevation_model.zip\", \"r\") as dem_zip:\n",
    "    dem_zip.extractall(unzip_path)\n",
    "    \n",
    "print(f\"Unzipped DEM data to {unzip_path}\")"
   ]
  },
  {
   "cell_type": "code",
   "execution_count": null,
   "metadata": {},
   "outputs": [],
   "source": [
    "# NLCD\n",
    "lc = requests.get(lc_url)\n",
    "\n",
    "with open (r\"D:\\arc1\\lab2\\part2\\tif_biota_landcover_nlcd_mn_2019.zip\", \"wb\") as lc_df:\n",
    "    lc_df.write(lc.content)\n",
    "\n",
    "sub_dir = \"tif_biota_landcover_nlcd_mn_2019\"\n",
    "unzip_path = os.path.join(r\"D:\\arc1\\lab2\\part2\", sub_dir)\n",
    "\n",
    "os.makedirs(unzip_path, exist_ok = True)\n",
    "\n",
    "with zipfile.ZipFile(r\"D:\\arc1\\lab2\\part2\\tif_biota_landcover_nlcd_mn_2019.zip\", \"r\") as lc_zip:\n",
    "    lc_zip.extractall(unzip_path)\n",
    "    \n",
    "print(f\"Unzipped NLCD data to {unzip_path}\")"
   ]
  },
  {
   "cell_type": "code",
   "execution_count": null,
   "metadata": {},
   "outputs": [],
   "source": [
    "# water\n",
    "water = requests.post(water_url)\n",
    "\n",
    "with open (r\"D:\\arc1\\lab2\\part2\\shp_water_strahler_stream_order.zip\", \"wb\") as w_df:\n",
    "    w_df.write(water.content)\n",
    "\n",
    "sub_dir = \"shp_water_strahler_stream_order\"\n",
    "unzip_path = os.path.join(r\"D:\\arc1\\lab2\\part2\", sub_dir)\n",
    "\n",
    "os.makedirs(unzip_path, exist_ok = True)\n",
    "\n",
    "with zipfile.ZipFile(r\"D:\\arc1\\lab2\\part2\\shp_water_strahler_stream_order.zip\", \"r\") as w_zip:\n",
    "    w_zip.extractall(unzip_path)\n",
    "    \n",
    "print(f\"Unzipped water data to {unzip_path}\")"
   ]
  },
  {
   "cell_type": "code",
   "execution_count": null,
   "metadata": {},
   "outputs": [],
   "source": [
    "# counties\n",
    "c = requests.get(county_url)\n",
    "with open (r\"D:\\arc1\\lab2\\part2\\shp_bdry_counties_in_minnesota.zip\", 'wb') as c_zip:\n",
    "    c_zip.write(c.content)\n",
    "    \n",
    "sub_dir = \"shp_bdry_counties_in_minnesota\"\n",
    "unzip_path = os.path.join(r\"D:\\arc1\\lab2\\part2\", sub_dir)\n",
    "\n",
    "os.makedirs(unzip_path, exist_ok = True)\n",
    "\n",
    "with zipfile.ZipFile(r\"D:\\arc1\\lab2\\part2\\shp_bdry_counties_in_minnesota.zip\", \"r\") as c_ref:\n",
    "    c_ref.extractall(unzip_path)\n",
    "\n",
    "print(f\"Unzipped county data to {unzip_path}\")"
   ]
  },
  {
   "cell_type": "markdown",
   "metadata": {},
   "source": [
    "#### prepare the study extent"
   ]
  },
  {
   "cell_type": "code",
   "execution_count": null,
   "metadata": {},
   "outputs": [],
   "source": [
    "# Create Study Extent (Feature Class to Feature Class)\n",
    "arcpy.conversion.FeatureClassToFeatureClass(r\"D:\\arc1\\lab2\\part2\\shp_bdry_counties_in_minnesota\\mn_county_boundaries.shp\", r\"D:\\arc1\\lab2\\part2\\Lab2_2\\Lab2_2.gdb\", \"StudyExtent\", \"CTY_NAME = 'Wabasha' Or CTY_NAME = 'Winona' Or CTY_NAME = 'Olmsted'\", 'AREA \"AREA\" true true false 19 Double 0 0,First,#,mn_county_boundaries,AREA,-1,-1;PERIMETER \"PERIMETER\" true true false 19 Double 0 0,First,#,mn_county_boundaries,PERIMETER,-1,-1;CTYONLY_ \"CTYONLY_\" true true false 19 Double 0 0,First,#,mn_county_boundaries,CTYONLY_,-1,-1;CTYONLY_ID \"CTYONLY_ID\" true true false 19 Double 0 0,First,#,mn_county_boundaries,CTYONLY_ID,-1,-1;COUN \"COUN\" true true false 4 Short 0 4,First,#,mn_county_boundaries,COUN,-1,-1;CTY_NAME \"CTY_NAME\" true true false 20 Text 0 0,First,#,mn_county_boundaries,CTY_NAME,0,20;CTY_ABBR \"CTY_ABBR\" true true false 4 Text 0 0,First,#,mn_county_boundaries,CTY_ABBR,0,4;CTY_FIPS \"CTY_FIPS\" true true false 4 Short 0 4,First,#,mn_county_boundaries,CTY_FIPS,-1,-1;Shape_Leng \"Shape_Leng\" true true false 19 Double 0 0,First,#,mn_county_boundaries,Shape_Leng,-1,-1;Shape_Area \"Shape_Area\" true true false 19 Double 0 0,First,#,mn_county_boundaries,Shape_Area,-1,-1', '')"
   ]
  },
  {
   "cell_type": "code",
   "execution_count": null,
   "metadata": {},
   "outputs": [],
   "source": [
    "# Dissolve County Boundaries \n",
    "arcpy.management.Dissolve(\"StudyExtent\", r\"D:\\arc1\\lab2\\part2\\Lab2_2\\Lab2_2.gdb\\StudyExtent_Dissolve\", None, None, \"MULTI_PART\", \"UNSPLIT_LINES\")"
   ]
  },
  {
   "cell_type": "markdown",
   "metadata": {},
   "source": [
    "#### prepare water stream"
   ]
  },
  {
   "cell_type": "code",
   "execution_count": null,
   "metadata": {},
   "outputs": [],
   "source": [
    "# Clip Streams\n",
    "arcpy.analysis.Clip(\"streams_with_strahler_stream_order\", \"StudyExtent_Dissolve\", r\"D:\\arc1\\lab2\\part2\\Lab2_2\\Lab2_2.gdb\\waterstream_Clip\", None)"
   ]
  },
  {
   "cell_type": "code",
   "execution_count": null,
   "metadata": {},
   "outputs": [],
   "source": [
    "# Feature to Raster \n",
    "arcpy.conversion.FeatureToRaster(\"waterstream_Clip\", \"SO_VALUE\", r\"D:\\arc1\\lab2\\part2\\Lab2_2\\Lab2_2.gdb\\Reclass_waterstream\")"
   ]
  },
  {
   "cell_type": "code",
   "execution_count": null,
   "metadata": {},
   "outputs": [],
   "source": [
    "# Reclassify Streams\n",
    "arcpy.ddd.Reclassify(\"Reclass_waterstream\", \"Value\", \"1 1;2 2;3 3;4 7;5 8;6 9;8 10\", r\"D:\\arc1\\lab2\\part2\\Lab2_2\\Lab2_2.gdb\\Reclass_Streams\", \"DATA\")"
   ]
  },
  {
   "cell_type": "markdown",
   "metadata": {},
   "source": [
    "#### prepar landcover"
   ]
  },
  {
   "cell_type": "code",
   "execution_count": null,
   "metadata": {},
   "outputs": [],
   "source": [
    "# Define the input raster dataset\n",
    "farm_field = r\"D:\\arc1\\lab2\\part2\\tif_biota_landcover_nlcd_mn_2019\\NLCD_2019_Land_Cover.tif\"\n",
    "\n",
    "# Define the output clipped raster\n",
    "output_clip = r\"D:\\arc1\\lab2\\part2\\Lab2_2\\Lab2_2.gdb\\LandCover_clip\"\n",
    "\n",
    "# Define the clipping feature\n",
    "clip_feature = \"StudyExtent_Dissolve\"\n",
    "\n",
    "# Perform the clip operation\n",
    "arcpy.management.Clip(farm_field, clip_feature, output_clip)"
   ]
  },
  {
   "cell_type": "code",
   "execution_count": null,
   "metadata": {},
   "outputs": [],
   "source": [
    "# Reclassify Landcover\n",
    "#farm_field_reclass = arcpy.sa.Reclassify(\"LandCover_clip.tif\", \"Value\", \"1 81 1;82 2;83 255 1\", \"DATA\")\n",
    "\n",
    "# Reclassify NLCD\n",
    "arcpy.ddd.Reclassify(\"LandCover_clip\", \"NLCD_Land\", \"'Open Water' 10;'Developed, Open Space' 2;'Developed, Low Intensity' 2;'Developed, Medium Intensity' 2;'Developed, High Intensity' 2;'Barren Land' 5;'Deciduous Forest' 7;'Evergreen Forest' 7;'Mixed Forest' 7;Shrub/Scrub 7;Herbaceous 7;Hay/Pasture 9;'Cultivated Crops' 9;'Woody Wetlands' 10;'Emergent Herbaceous Wetlands' 10\", r\"D:\\arc1\\lab2\\part2\\Lab2_2\\Lab2_2.gdb\\Reclass_NLCD\", \"DATA\")"
   ]
  },
  {
   "cell_type": "markdown",
   "metadata": {},
   "source": [
    "#### prepare slope"
   ]
  },
  {
   "cell_type": "code",
   "execution_count": null,
   "metadata": {},
   "outputs": [],
   "source": [
    "# Define the input raster dataset\n",
    "DEM = r\"D:\\arc1\\lab2\\part2\\fgdb_elev_30m_digital_elevation_model\\elev_30m_digital_elevation_model.gdb\\digital_elevation_model_30m\"\n",
    "\n",
    "# Define the output clipped raster\n",
    "output_clip = r\"D:\\arc1\\lab2\\part2\\Lab2_2\\Lab2_2.gdb\\DEM_clip\"\n",
    "\n",
    "# Define the clipping feature\n",
    "clip_feature = \"StudyExtent_Dissolve\"\n",
    "\n",
    "# Perform the clip operation\n",
    "arcpy.management.Clip(DEM , clip_feature, output_clip)"
   ]
  },
  {
   "cell_type": "code",
   "execution_count": null,
   "metadata": {},
   "outputs": [],
   "source": [
    "# Calculate Slope\n",
    "slope_name = r\"D:\\arc1\\lab2\\part2\\Lab2_2\\Lab2_2.gdb\\DEM_clip\\slope\"\n",
    "\n",
    "slope = arcpy.sa.Slope(\"DEM_clip\", \"DEGREE\", 1, \"PLANAR\", \"METER\")\n",
    "\n",
    "slope.save(slope_name)"
   ]
  },
  {
   "cell_type": "code",
   "execution_count": null,
   "metadata": {},
   "outputs": [],
   "source": [
    "# Reclassify Slope\n",
    "Reclass_slope = arcpy.sa.Reclassify(\"slope\", \"VALUE\", \"0 5 5;5 10 4;10 15 3;15 20 2;20 90 1\", \"DATA\") \n"
   ]
  },
  {
   "cell_type": "markdown",
   "metadata": {},
   "source": [
    "#### create start & end points"
   ]
  },
  {
   "cell_type": "code",
   "execution_count": null,
   "metadata": {},
   "outputs": [],
   "source": [
    "# Create start point\n",
    "start = arcpy.Point(44.127985, -92.148796)\n",
    "\n",
    "# Create a point geometry\n",
    "start_point = arcpy.PointGeometry(start, arcpy.SpatialReference(4326))\n",
    "# Save the point geometry to a feature class\n",
    "output_fc = r\"D:\\arc1\\lab2\\part2\\Lab2_2\\Lab2_2.gdb\\Start_Point\"\n",
    "\n",
    "arcpy.CopyFeatures_management(start_point, output_fc)"
   ]
  },
  {
   "cell_type": "code",
   "execution_count": null,
   "metadata": {},
   "outputs": [],
   "source": [
    "# Create end point\n",
    "end = arcpy.Point(44.05431509462441, -92.04443552409354)\n",
    "\n",
    "# Create a point geometry\n",
    "end_point = arcpy.PointGeometry(end, arcpy.SpatialReference(4326))\n",
    "# Save the point geometry to a feature class\n",
    "output_fc = r\"D:\\arc1\\lab2\\part2\\Lab2_2\\Lab2_2.gdb\\End_Point\"\n",
    "\n",
    "arcpy.CopyFeatures_management(end_point, output_fc)"
   ]
  },
  {
   "cell_type": "markdown",
   "metadata": {},
   "source": [
    "#### cost path functions"
   ]
  },
  {
   "cell_type": "code",
   "execution_count": 1,
   "metadata": {},
   "outputs": [],
   "source": [
    "# convert waterstream to raster\n",
    "arcpy.conversion.FeatureToRaster(\n",
    "    in_features=\"waterstream_Clip\",\n",
    "    field=\"SO_VALUE\",\n",
    "    out_raster=r\"D:\\fall2023\\arc1\\lab3\\lab3_1\\lab3_1.gdb\\water_lab3\",\n",
    "    cell_size=276.583641600005\n",
    ")"
   ]
  },
  {
   "cell_type": "code",
   "execution_count": null,
   "metadata": {},
   "outputs": [],
   "source": [
    "# reclassify waterstream raster (water:1, other:0)\n",
    "arcpy.ddd.Reclassify(\n",
    "    in_raster=\"water_lab3\",\n",
    "    reclass_field=\"Value\",\n",
    "    remap=\"1 1;2 1;3 1;4 1;5 1;6 1;8 1;NODATA 0\",\n",
    "    out_raster=r\"D:\\fall2023\\arc1\\lab3\\lab3_1\\lab3_1.gdb\\Reclass_wate_Lab3\",\n",
    "    missing_values=\"DATA\"\n",
    ")"
   ]
  },
  {
   "cell_type": "code",
   "execution_count": null,
   "metadata": {},
   "outputs": [],
   "source": [
    "# reclassfy land use \n",
    "arcpy.ddd.Reclassify(\n",
    "    in_raster=\"LandCover_clip\",\n",
    "    reclass_field=\"NLCD_Land\",\n",
    "    remap=\"'Open Water' 2;'Developed, Open Space' 1;'Developed, Low Intensity' 1;'Developed, Medium Intensity' 1;'Developed, High Intensity' 1;'Barren Land' 1;'Deciduous Forest' 1;'Evergreen Forest' 1;'Mixed Forest' 1;Shrub/Scrub 1;Herbaceous 1;Hay/Pasture 1;'Cultivated Crops' 1;'Woody Wetlands' 2;'Emergent Herbaceous Wetlands' 2\",\n",
    "    out_raster=r\"D:\\fall2023\\arc1\\lab3\\lab3_1\\lab3_1.gdb\\Reclass_Land_Lab3\",\n",
    "    missing_values=\"DATA\"\n",
    ")"
   ]
  },
  {
   "cell_type": "code",
   "execution_count": null,
   "metadata": {},
   "outputs": [],
   "source": [
    "# reclassify slope\n",
    "arcpy.ddd.Reclassify(\n",
    "    in_raster=\"slope\",\n",
    "    reclass_field=\"VALUE\",\n",
    "    remap=\"0 4.046986 1;4.046986 8.716586 2;8.716586 13.697492 3;13.697492 19.301012 4;19.301012 25.527145 5;25.527145 32.375891 6;32.375891 39.224637 7;39.224637 46.073383 8;46.073383 52.610823 9;52.610823 58.836956 10;58.836956 79.383194 11\",\n",
    "    out_raster=r\"D:\\fall2023\\arc1\\lab3\\lab3_1\\lab3_1.gdb\\Reclass_slop_Lab3\",\n",
    "    missing_values=\"DATA\"\n",
    ")"
   ]
  },
  {
   "cell_type": "markdown",
   "metadata": {},
   "source": [
    "#### path 1: slope * 0.5, landuse * 0.3, water * 0.2"
   ]
  },
  {
   "cell_type": "code",
   "execution_count": 1,
   "metadata": {},
   "outputs": [],
   "source": [
    "output_raster = arcpy.ia.RasterCalculator(\n",
    "    expression='(\"Reclass_slop_Lab3\"*0.5)+(\"Reclass_Land_Lab3\"*0.3)+(\"Reclass_wate_Lab3\"*0.2)'\n",
    ")\n",
    "output_raster.save(r\"d:\\fall2023\\arc1\\lab3\\lab3_1\\lab3_1.gdb\\reclas_raste3\")"
   ]
  },
  {
   "cell_type": "code",
   "execution_count": null,
   "metadata": {},
   "outputs": [],
   "source": [
    "out_distance_raster = arcpy.sa.CostDistance(\n",
    "    in_source_data=\"start\",\n",
    "    in_cost_raster=\"reclas_raste\",\n",
    "    maximum_distance=None,\n",
    "    out_backlink_raster=r\"D:\\fall2023\\arc1\\lab3\\lab3_1\\lab3_1.gdb\\backlink1\",\n",
    "    source_cost_multiplier=None,\n",
    "    source_start_cost=None,\n",
    "    source_resistance_rate=None,\n",
    "    source_capacity=None,\n",
    "    source_direction=\"\"\n",
    ")\n",
    "out_distance_raster.save(r\"D:\\fall2023\\arc1\\lab3\\lab3_1\\lab3_1.gdb\\CostDis1\")"
   ]
  },
  {
   "cell_type": "code",
   "execution_count": null,
   "metadata": {},
   "outputs": [],
   "source": [
    "out_raster = arcpy.sa.CostPath(\n",
    "    in_destination_data=\"end\",\n",
    "    in_cost_distance_raster=\"CostDis1\",\n",
    "    in_cost_backlink_raster=\"backlink1\",\n",
    "    path_type=\"EACH_CELL\",\n",
    "    destination_field=\"OBJECTID\",\n",
    "    force_flow_direction_convention=\"INPUT_RANGE\"\n",
    ")\n",
    "out_raster.save(r\"D:\\fall2023\\arc1\\lab3\\lab3_1\\lab3_1.gdb\\CostPat1\")"
   ]
  },
  {
   "cell_type": "markdown",
   "metadata": {},
   "source": [
    "#### path2: slope * 0.8, landuse * 0.1, water * 0.1"
   ]
  },
  {
   "cell_type": "code",
   "execution_count": 6,
   "metadata": {},
   "outputs": [],
   "source": [
    "output_raster = arcpy.ia.RasterCalculator(\n",
    "    expression='(\"Reclass_slop_Lab3\"*0.8)+(\"Reclass_Land_Lab3\"*0.1)+(\"Reclass_wate_Lab3\"*0.1)'\n",
    ")\n",
    "output_raster.save(r\"d:\\fall2023\\arc1\\lab3\\lab3_1\\lab3_1.gdb\\reclas_raste2\")"
   ]
  },
  {
   "cell_type": "code",
   "execution_count": null,
   "metadata": {},
   "outputs": [],
   "source": [
    "out_distance_raster = arcpy.sa.CostDistance(\n",
    "    in_source_data=\"start\",\n",
    "    in_cost_raster=\"reclas_raste\",\n",
    "    maximum_distance=None,\n",
    "    out_backlink_raster=r\"D:\\fall2023\\arc1\\lab3\\lab3_1\\lab3_1.gdb\\backlink2\",\n",
    "    source_cost_multiplier=None,\n",
    "    source_start_cost=None,\n",
    "    source_resistance_rate=None,\n",
    "    source_capacity=None,\n",
    "    source_direction=\"\"\n",
    ")\n",
    "out_distance_raster.save(r\"D:\\fall2023\\arc1\\lab3\\lab3_1\\lab3_1.gdb\\CostDis2\")"
   ]
  },
  {
   "cell_type": "code",
   "execution_count": null,
   "metadata": {},
   "outputs": [],
   "source": [
    "out_raster = arcpy.sa.CostPath(\n",
    "    in_destination_data=\"end\",\n",
    "    in_cost_distance_raster=\"CostDis2\",\n",
    "    in_cost_backlink_raster=\"backlink2\",\n",
    "    path_type=\"EACH_CELL\",\n",
    "    destination_field=\"OBJECTID\",\n",
    "    force_flow_direction_convention=\"INPUT_RANGE\"\n",
    ")\n",
    "out_raster.save(r\"D:\\fall2023\\arc1\\lab3\\lab3_1\\lab3_1.gdb\\CostPat2\")"
   ]
  },
  {
   "cell_type": "markdown",
   "metadata": {},
   "source": [
    "#### path3: slope * 0.2, landuse * 0.65, water * 0.15"
   ]
  },
  {
   "cell_type": "code",
   "execution_count": null,
   "metadata": {},
   "outputs": [],
   "source": [
    "output_raster = arcpy.ia.RasterCalculator(\n",
    "    expression='(\"Reclass_slop_Lab3\"*0.2)+(\"Reclass_Land_Lab3\"*0.65)+(\"Reclass_wate_Lab3\"*0.15)'\n",
    ")\n",
    "output_raster.save(r\"d:\\fall2023\\arc1\\lab3\\lab3_1\\lab3_1.gdb\\reclas_raste3\")"
   ]
  },
  {
   "cell_type": "code",
   "execution_count": null,
   "metadata": {},
   "outputs": [],
   "source": [
    "out_distance_raster = arcpy.sa.CostDistance(\n",
    "    in_source_data=\"start\",\n",
    "    in_cost_raster=\"reclas_raste\",\n",
    "    maximum_distance=None,\n",
    "    out_backlink_raster=r\"D:\\fall2023\\arc1\\lab3\\lab3_1\\lab3_1.gdb\\backlink3\",\n",
    "    source_cost_multiplier=None,\n",
    "    source_start_cost=None,\n",
    "    source_resistance_rate=None,\n",
    "    source_capacity=None,\n",
    "    source_direction=\"\"\n",
    ")\n",
    "out_distance_raster.save(r\"D:\\fall2023\\arc1\\lab3\\lab3_1\\lab3_1.gdb\\CostDis3\")"
   ]
  },
  {
   "cell_type": "code",
   "execution_count": null,
   "metadata": {},
   "outputs": [],
   "source": [
    "out_raster = arcpy.sa.CostPath(\n",
    "    in_destination_data=\"end\",\n",
    "    in_cost_distance_raster=\"CostDis3\",\n",
    "    in_cost_backlink_raster=\"backlink3\",\n",
    "    path_type=\"EACH_CELL\",\n",
    "    destination_field=\"OBJECTID\",\n",
    "    force_flow_direction_convention=\"INPUT_RANGE\"\n",
    ")\n",
    "out_raster.save(r\"D:\\fall2023\\arc1\\lab3\\lab3_1\\lab3_1.gdb\\CostPat3\")"
   ]
  }
 ],
 "metadata": {
  "kernelspec": {
   "display_name": "Python 3 (ipykernel)",
   "language": "python",
   "name": "python3"
  },
  "language_info": {
   "codemirror_mode": {
    "name": "ipython",
    "version": 3
   },
   "file_extension": ".py",
   "mimetype": "text/x-python",
   "name": "python",
   "nbconvert_exporter": "python",
   "pygments_lexer": "ipython3",
   "version": "3.9.7"
  }
 },
 "nbformat": 4,
 "nbformat_minor": 4
}
