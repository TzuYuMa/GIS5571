{
 "cells": [
  {
   "cell_type": "markdown",
   "metadata": {},
   "source": [
    "# Analyzing the High-Risk Area"
   ]
  },
  {
   "cell_type": "markdown",
   "metadata": {},
   "source": [
    "### Connect your GIS (optional)"
   ]
  },
  {
   "cell_type": "code",
   "execution_count": 1,
   "metadata": {},
   "outputs": [],
   "source": [
    "# The results generated in this notebook will be shared as a Web Map in my ArcGIS Online account, and I will import them into this notebook.\n",
    "from arcgis.gis import GIS\n",
    "gis = GIS('home')"
   ]
  },
  {
   "cell_type": "markdown",
   "metadata": {},
   "source": [
    "### Input data and the source\n",
    "\n",
    "Digital Elevation Model (DEM): NASA SRTM  \n",
    "Slope: NASA SRTM  \n",
    "Land Use and Land Cover: European Space Agency (ESA)  \n",
    "Precipitation: WorldClim  \n",
    "Distance to streams: Accumulated from DEM  \n",
    "Boundary: National Land Surveying and Mapping Center (Taiwan)  \n",
    "\n",
    "----------------------------------------------------------------------------------------------------"
   ]
  },
  {
   "cell_type": "code",
   "execution_count": 19,
   "metadata": {},
   "outputs": [],
   "source": [
    "from arcgis.gis import GIS\n",
    "from arcgis.mapping import WebMap"
   ]
  },
  {
   "cell_type": "markdown",
   "metadata": {},
   "source": [
    "The code down below is to utilize DEM data to obtain distance to streams:"
   ]
  },
  {
   "cell_type": "markdown",
   "metadata": {},
   "source": [
    "**Fill Sinks**. This process helps in creating a continuous and accurate surface model"
   ]
  },
  {
   "cell_type": "code",
   "execution_count": null,
   "metadata": {},
   "outputs": [],
   "source": [
    "with arcpy.EnvManager(scratchWorkspace=r\"D:\\fall2023\\arc1\\project\\Flood\\Flood.gdb\"):\n",
    "    out_surface_raster = arcpy.sa.Fill(\n",
    "        in_surface_raster=\"DEM_export_Clip\",\n",
    "        z_limit=None\n",
    "    )\n",
    "    out_surface_raster.save(r\"D:\\fall2023\\arc1\\project\\Flood\\Flood.gdb\\Fill\")"
   ]
  },
  {
   "cell_type": "markdown",
   "metadata": {},
   "source": [
    "**Flow Direction (D8)**. D8 method are typically defined as the eight immediately adjacent cells: north, northeast, east, southeast, south, southwest, west, and northwest. The direction in which water flows from a particular cell is determined by identifying the steepest downward slope among these neighboring cells."
   ]
  },
  {
   "cell_type": "code",
   "execution_count": null,
   "metadata": {},
   "outputs": [],
   "source": [
    "with arcpy.EnvManager(scratchWorkspace=r\"D:\\fall2023\\arc1\\project\\Flood\\Flood.gdb\"):\n",
    "    out_flow_direction_raster = arcpy.sa.FlowDirection(\n",
    "        in_surface_raster=\"Fill\",\n",
    "        force_flow=\"NORMAL\",\n",
    "        out_drop_raster=None,\n",
    "        flow_direction_type=\"D8\"\n",
    "    )\n",
    "    out_flow_direction_raster.save(r\"D:\\fall2023\\arc1\\project\\Flood\\Flood.gdb\\FlowDirection\")"
   ]
  },
  {
   "cell_type": "markdown",
   "metadata": {},
   "source": [
    "**Flow Accumulation**. This information is crucial for understanding the distribution and concentration of water flow in a landscape."
   ]
  },
  {
   "cell_type": "code",
   "execution_count": null,
   "metadata": {},
   "outputs": [],
   "source": [
    "with arcpy.EnvManager(scratchWorkspace=r\"D:\\fall2023\\arc1\\project\\Flood\\Flood.gdb\"):\n",
    "    out_accumulation_raster = arcpy.sa.FlowAccumulation(\n",
    "        in_flow_direction_raster=\"FlowDirection\",\n",
    "        in_weight_raster=None,\n",
    "        data_type=\"FLOAT\",\n",
    "        flow_direction_type=\"D8\"\n",
    "    )\n",
    "    out_accumulation_raster.save(r\"D:\\fall2023\\arc1\\project\\Flood\\Flood.gdb\\FlowAcc\")"
   ]
  },
  {
   "cell_type": "markdown",
   "metadata": {},
   "source": [
    "**Reclassify**. If the value is greater than a threshold ( 1% of the maximum flow accumlation ), assign it to 1; otherwise, assing it to NODATA."
   ]
  },
  {
   "cell_type": "code",
   "execution_count": null,
   "metadata": {},
   "outputs": [],
   "source": [
    "with arcpy.EnvManager(scratchWorkspace=r\"D:\\fall2023\\arc1\\project\\Flood\\Flood.gdb\"):\n",
    "    out_raster = arcpy.sa.Reclassify(\n",
    "        in_raster=\"FlowAcc\",\n",
    "        reclass_field=\"VALUE\",\n",
    "        remap=\"0 76000 NODATA;76000 7603437 1\",\n",
    "        missing_values=\"NODATA\"\n",
    "    )\n",
    "    out_raster.save(r\"D:\\fall2023\\arc1\\project\\Flood\\Flood.gdb\\streams\")"
   ]
  },
  {
   "cell_type": "markdown",
   "metadata": {},
   "source": [
    "**Euclidean Distance**. Distance to streams."
   ]
  },
  {
   "cell_type": "code",
   "execution_count": null,
   "metadata": {},
   "outputs": [],
   "source": [
    "with arcpy.EnvManager(scratchWorkspace=r\"D:\\fall2023\\arc1\\project\\Flood\\Flood.gdb\"):\n",
    "    out_distance_raster = arcpy.sa.EucDistance(\n",
    "        in_source_data=\"streams\",\n",
    "        maximum_distance=None,\n",
    "        cell_size=r\"D:\\fall2023\\arc1\\project\\Flood\\DEM_export.tif\",\n",
    "        out_direction_raster=None,\n",
    "        distance_method=\"PLANAR\",\n",
    "        in_barrier_data=None,\n",
    "        out_back_direction_raster=None\n",
    "    )\n",
    "    out_distance_raster.save(r\"D:\\fall2023\\arc1\\project\\Flood\\Flood.gdb\\Dist_streams\")"
   ]
  },
  {
   "cell_type": "markdown",
   "metadata": {},
   "source": [
    "### Assign the weights for input data\n",
    "Reclassify each of the input data into five classes"
   ]
  },
  {
   "cell_type": "code",
   "execution_count": null,
   "metadata": {},
   "outputs": [],
   "source": [
    "# DEM\n",
    "with arcpy.EnvManager(extent='114.359282472295 10.3713476630824 124.561149500316 26.3852781295282 GEOGCS[\"GCS_WGS_1984\",DATUM[\"D_WGS_1984\",SPHEROID[\"WGS_1984\",6378137.0,298.257223563]],PRIMEM[\"Greenwich\",0.0],UNIT[\"Degree\",0.0174532925199433]]', scratchWorkspace=r\"D:\\fall2023\\arc1\\project\\Flood\\Flood.gdb\"):\n",
    "    out_raster = arcpy.sa.Reclassify(\n",
    "        in_raster=\"DEM_export.tif\",\n",
    "        reclass_field=\"Value\",\n",
    "        remap=\"-45 234.670588 10;234.670588 825.086275 8;825.086275 1524.262745 6;1524.262745 2285.588235 4;2285.588235 3917 2\",\n",
    "        missing_values=\"NODATA\"\n",
    "    )\n",
    "    out_raster.save(r\"D:\\fall2023\\arc1\\project\\Flood\\Flood.gdb\\Reclass_DEM\")"
   ]
  },
  {
   "cell_type": "code",
   "execution_count": null,
   "metadata": {},
   "outputs": [],
   "source": [
    "# Slope\n",
    "with arcpy.EnvManager(scratchWorkspace=r\"D:\\fall2023\\arc1\\project\\Flood\\Flood.gdb\"):\n",
    "    out_raster = arcpy.sa.Reclassify(\n",
    "        in_raster=\"Slope_export.tif\",\n",
    "        reclass_field=\"VALUE\",\n",
    "        remap=\"0 2 10;2 5 8;5 10 6;10 20 4;20 78.986473 2\",\n",
    "        missing_values=\"NODATA\"\n",
    "    )\n",
    "    out_raster.save(r\"D:\\fall2023\\arc1\\project\\Flood\\Flood.gdb\\Reclass_Slop\")"
   ]
  },
  {
   "cell_type": "code",
   "execution_count": null,
   "metadata": {},
   "outputs": [],
   "source": [
    "# Precipitaiton\n",
    "with arcpy.EnvManager(scratchWorkspace=r\"D:\\fall2023\\arc1\\project\\Flood\\Flood.gdb\"):\n",
    "    out_raster = arcpy.sa.Reclassify(\n",
    "        in_raster=\"prc\",\n",
    "        reclass_field=\"VALUE\",\n",
    "        remap=\"88 266 2;266 370 4;370 497 6;497 655 8;655 1093 10\",\n",
    "        missing_values=\"NODATA\"\n",
    "    )\n",
    "    out_raster.save(r\"D:\\fall2023\\arc1\\project\\Flood\\Flood.gdb\\Reclass_prc\")"
   ]
  },
  {
   "cell_type": "code",
   "execution_count": null,
   "metadata": {},
   "outputs": [],
   "source": [
    "#LULC\n",
    "with arcpy.EnvManager(scratchWorkspace=r\"D:\\fall2023\\arc1\\project\\Flood\\Flood.gdb\"):\n",
    "    out_raster = arcpy.sa.Reclassify(\n",
    "        in_raster=\"ESA_LULC_ROI.tif\",\n",
    "        reclass_field=\"Value\",\n",
    "        remap=\"0 NODATA;10 2;20 4;30 4;40 6;50 8;60 8;80 10;90 8;95 8\",\n",
    "        missing_values=\"NODATA\"\n",
    "    )\n",
    "    out_raster.save(r\"D:\\fall2023\\arc1\\project\\Flood\\Flood.gdb\\Reclass_ESA\")"
   ]
  },
  {
   "cell_type": "code",
   "execution_count": null,
   "metadata": {},
   "outputs": [],
   "source": [
    "#Distance to streams\n",
    "with arcpy.EnvManager(scratchWorkspace=r\"D:\\fall2023\\arc1\\project\\Flood\\Flood.gdb\"):\n",
    "    out_raster = arcpy.sa.Reclassify(\n",
    "        in_raster=\"Distanc_stre1\",\n",
    "        reclass_field=\"VALUE\",\n",
    "        remap=\"0 0.014320 10;0.014320 0.031027 8;0.031027 0.049524 6;0.049524 0.072795 4;0.072795 0.152153 2\",\n",
    "        missing_values=\"NODATA\"\n",
    "    )\n",
    "    out_raster.save(r\"D:\\fall2023\\arc1\\project\\Flood\\Flood.gdb\\Reclass_Dist\")"
   ]
  },
  {
   "cell_type": "markdown",
   "metadata": {},
   "source": [
    "Employ the Analytic Hierarchy Process (AHP) to determine the probability weights. AHP method was developed by Thomas L. Saaty in the 1980s"
   ]
  },
  {
   "cell_type": "code",
   "execution_count": 5,
   "metadata": {},
   "outputs": [
    {
     "name": "stdout",
     "output_type": "stream",
     "text": [
      "Slope Weight: 0.050551624564427536\n",
      "DEM Weight: 0.0724632252731259\n",
      "Distance to river Weight: 0.2797178463067995\n",
      "LULC Weight: 0.11008930988853834\n",
      "Precipitation Weight: 0.48717799396710876\n"
     ]
    }
   ],
   "source": [
    "import numpy as np\n",
    "\n",
    "def ahp(matrix):\n",
    "    # Normalizing the matrix\n",
    "    normalized_matrix = matrix / matrix.sum(axis=0)\n",
    "\n",
    "    # Calculating the weights\n",
    "    weights = normalized_matrix.mean(axis=1)\n",
    "\n",
    "    # Normalizing the weights\n",
    "    normalized_weights = weights / weights.sum()\n",
    "\n",
    "    return normalized_weights\n",
    "\n",
    "# Example usage\n",
    "criteria_matrix = np.array([\n",
    "    [1, 1/2, 1/4, 1/3, 1/7],\n",
    "    [2, 1, 1/5, 1/2, 1/6],\n",
    "    [4, 5, 1, 5, 1/3],\n",
    "    [3, 2, 1/5, 1, 1/5],\n",
    "    [7, 6, 3, 5, 1]\n",
    "])\n",
    "\n",
    "criteria_weights = ahp(criteria_matrix)\n",
    "\n",
    "# Print the results\n",
    "criteria = ['Slope', 'DEM', 'Distance to river', 'LULC', 'Precipitation']\n",
    "for i in range(len(criteria)):\n",
    "    print(f\"{criteria[i]} Weight: {criteria_weights[i]}\")\n"
   ]
  },
  {
   "cell_type": "code",
   "execution_count": null,
   "metadata": {},
   "outputs": [],
   "source": [
    "with arcpy.EnvManager(scratchWorkspace=r\"D:\\fall2023\\arc1\\project\\Flood\\Flood.gdb\"):\n",
    "    out_raster = arcpy.sa.WeightedSum(\n",
    "        in_weighted_sum_table=\"Reclass_Dist Value 0.278;Reclass_ESA Value 0.103;Reclass_prc Value 0.5;Reclass_Slop Value 0.049;Reclass_DEM Value 0.07\"\n",
    "    )\n",
    "    out_raster.save(r\"D:\\fall2023\\arc1\\project\\Flood\\Flood.gdb\\Weight\")"
   ]
  }
 ],
 "metadata": {
  "kernelspec": {
   "display_name": "ArcGISPro",
   "language": "Python",
   "name": "python3"
  },
  "language_info": {
   "file_extension": ".py",
   "name": "python",
   "version": "3"
  }
 },
 "nbformat": 4,
 "nbformat_minor": 2
}
