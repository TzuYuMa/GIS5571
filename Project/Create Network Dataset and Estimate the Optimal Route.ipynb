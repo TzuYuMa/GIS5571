{
 "cells": [
  {
   "cell_type": "markdown",
   "metadata": {},
   "source": [
    "# Create Network Dataset and Estimate the Optimal Route"
   ]
  },
  {
   "cell_type": "markdown",
   "metadata": {},
   "source": [
    "### Connect your GIS (optional)"
   ]
  },
  {
   "cell_type": "code",
   "execution_count": 1,
   "metadata": {},
   "outputs": [],
   "source": [
    "from arcgis.gis import GIS\n",
    "gis = GIS('home')"
   ]
  },
  {
   "cell_type": "markdown",
   "metadata": {},
   "source": [
    "The road data used to create the network dataset was sourced from OpenStreetMap, but it can also come from any other open-source road data.  "
   ]
  },
  {
   "cell_type": "markdown",
   "metadata": {},
   "source": [
    "### Create road network dataset"
   ]
  },
  {
   "cell_type": "markdown",
   "metadata": {},
   "source": [
    "Before building the network, ensure that the road attributes contain necessary information; otherwise, you may need to create a new column. In this project, I will generate modes that include Distance, Time, and Risk. I will add columns for length (km), time (min), and high-risk values."
   ]
  },
  {
   "cell_type": "code",
   "execution_count": null,
   "metadata": {},
   "outputs": [],
   "source": [
    "# Calculate road length (km)\n",
    "arcpy.management.CalculateGeometryAttributes(\n",
    "    in_features=\"osm_road\",\n",
    "    geometry_property=\"Length_km LENGTH_GEODESIC\",\n",
    "    length_unit=\"KILOMETERS\",\n",
    "    area_unit=\"\",\n",
    "    coordinate_system='GEOGCS[\"GCS_WGS_1984\",DATUM[\"D_WGS_1984\",SPHEROID[\"WGS_1984\",6378137.0,298.257223563]],PRIMEM[\"Greenwich\",0.0],UNIT[\"Degree\",0.0174532925199433]]',\n",
    "    coordinate_format=\"SAME_AS_INPUT\"\n",
    ")"
   ]
  },
  {
   "cell_type": "code",
   "execution_count": null,
   "metadata": {},
   "outputs": [],
   "source": [
    "# Calculate time (min)\n",
    "arcpy.management.CalculateField(\n",
    "    in_table=\"osm_road\",\n",
    "    field=\"MINUTES\",\n",
    "    expression=\"!Length! / !maxspeed! * 60\",\n",
    "    expression_type=\"PYTHON3\",\n",
    "    code_block=\"\",\n",
    "    field_type=\"TEXT\",\n",
    "    enforce_domains=\"NO_ENFORCE_DOMAINS\"\n",
    ")"
   ]
  },
  {
   "cell_type": "code",
   "execution_count": null,
   "metadata": {},
   "outputs": [],
   "source": [
    "# Incorporate the results from the high-risk area analysis (obtained from the \"Analyzing the High-Risk Area\" notebooks) into the road dataset.\n",
    "arcpy.sa.AddSurfaceInformation(\n",
    "    in_feature_class=\"osm_road\",\n",
    "    in_surface=\"Reclass_risk2\",\n",
    "    out_property=\"Z_MEAN\",\n",
    "    method=\"BILINEAR\",\n",
    "    sample_distance=None,\n",
    "    z_factor=1,\n",
    "    pyramid_level_resolution=0,\n",
    "    noise_filtering=\"\"\n",
    ")"
   ]
  },
  {
   "cell_type": "markdown",
   "metadata": {},
   "source": [
    "Create the Network Dataset then Build Network"
   ]
  },
  {
   "cell_type": "code",
   "execution_count": null,
   "metadata": {},
   "outputs": [],
   "source": [
    "arcpy.na.CreateNetworkDataset(\n",
    "    feature_dataset=r\"D:\\fall2023\\arc1\\project\\Network\\Network.gdb\\ND\",\n",
    "    out_name=\"Driving\",\n",
    "    source_feature_class_names=\"osm_road\",\n",
    "    elevation_model=\"ELEVATION_FIELDS\"\n",
    ")"
   ]
  },
  {
   "cell_type": "code",
   "execution_count": null,
   "metadata": {},
   "outputs": [],
   "source": [
    "arcpy.na.BuildNetwork(\n",
    "    in_network_dataset=r\"D:\\fall2023\\arc1\\project\\Network\\Network.gdb\\ND\\Driving\",\n",
    "    force_full_build=\"NO_FORCE_FULL_BUILD\"\n",
    ")"
   ]
  },
  {
   "cell_type": "markdown",
   "metadata": {},
   "source": [
    "### Generate random points to identify incident locations"
   ]
  },
  {
   "cell_type": "markdown",
   "metadata": {},
   "source": [
    "To identify incident locations, I generate 100 random points, create drive-time buffers for each point, and then utilize the Google API to request information on nearby fire stations."
   ]
  },
  {
   "cell_type": "markdown",
   "metadata": {},
   "source": [
    "create 100 random points"
   ]
  },
  {
   "cell_type": "code",
   "execution_count": null,
   "metadata": {},
   "outputs": [],
   "source": [
    "arcpy.management.CreateRandomPoints(\n",
    "    out_path=r\"D:\\fall2023\\arc1\\project\\Network\\Network.gdb\",\n",
    "    out_name=\"random_points\",\n",
    "    constraining_feature_class=\"COUNTY1984\",\n",
    "    constraining_extent=\"0 0 250 250\",\n",
    "    number_of_points_or_field=100,\n",
    "    minimum_allowed_distance=\"0 DecimalDegrees\",\n",
    "    create_multipoint_output=\"POINT\",\n",
    "    multipoint_size=0\n",
    ")"
   ]
  },
  {
   "cell_type": "markdown",
   "metadata": {},
   "source": [
    "Establish drive-time buffers of 5, 10, and 15 minutes for each random point, corresponding to distances of 4.17, 8.33, and 12.5 km, based on a speed of 50 km/hr."
   ]
  },
  {
   "cell_type": "code",
   "execution_count": null,
   "metadata": {},
   "outputs": [],
   "source": [
    "# 5 mins buffer\n",
    "arcpy.analysis.Buffer(\n",
    "    in_features=r\"Closest Facility\\Incidents\",\n",
    "    out_feature_class=r\"D:\\fall2023\\arc1\\project\\road_risk\\road_risk.gdb\\Incidents_Buffer5min\",\n",
    "    buffer_distance_or_field=\"4.17 Kilometers\",\n",
    "    line_side=\"FULL\",\n",
    "    line_end_type=\"ROUND\",\n",
    "    dissolve_option=\"NONE\",\n",
    "    dissolve_field=None,\n",
    "    method=\"GEODESIC\"\n",
    ")"
   ]
  },
  {
   "cell_type": "code",
   "execution_count": null,
   "metadata": {},
   "outputs": [],
   "source": [
    "# 10 mins buffer\n",
    "arcpy.analysis.Buffer(\n",
    "    in_features=r\"Closest Facility\\Incidents\",\n",
    "    out_feature_class=r\"D:\\fall2023\\arc1\\project\\road_risk\\road_risk.gdb\\Incidents_Buffer10min\",\n",
    "    buffer_distance_or_field=\"8.33 Kilometers\",\n",
    "    line_side=\"FULL\",\n",
    "    line_end_type=\"ROUND\",\n",
    "    dissolve_option=\"NONE\",\n",
    "    dissolve_field=None,\n",
    "    method=\"GEODESIC\"\n",
    ")"
   ]
  },
  {
   "cell_type": "code",
   "execution_count": null,
   "metadata": {},
   "outputs": [],
   "source": [
    "# 15 mins buffer\n",
    "arcpy.analysis.Buffer(\n",
    "    in_features=r\"Closest Facility\\Incidents\",\n",
    "    out_feature_class=r\"D:\\fall2023\\arc1\\project\\road_risk\\road_risk.gdb\\Incidents_Buffer15min\",\n",
    "    buffer_distance_or_field=\"12.5 Kilometers\",\n",
    "    line_side=\"FULL\",\n",
    "    line_end_type=\"ROUND\",\n",
    "    dissolve_option=\"NONE\",\n",
    "    dissolve_field=None,\n",
    "    method=\"GEODESIC\"\n",
    ")"
   ]
  },
  {
   "cell_type": "markdown",
   "metadata": {},
   "source": [
    "Select a random point and use the Google Places API to request information on nearby fire stations."
   ]
  },
  {
   "cell_type": "code",
   "execution_count": 1,
   "metadata": {},
   "outputs": [],
   "source": [
    "import requests\n",
    "import pandas as pd\n",
    "import geopandas as gpd # geopandas may can not use in Arcpro notebooks\n",
    "import json"
   ]
  },
  {
   "cell_type": "code",
   "execution_count": 8,
   "metadata": {},
   "outputs": [
    {
     "data": {
      "text/html": [
       "<div>\n",
       "<style scoped>\n",
       "    .dataframe tbody tr th:only-of-type {\n",
       "        vertical-align: middle;\n",
       "    }\n",
       "\n",
       "    .dataframe tbody tr th {\n",
       "        vertical-align: top;\n",
       "    }\n",
       "\n",
       "    .dataframe thead th {\n",
       "        text-align: right;\n",
       "    }\n",
       "</style>\n",
       "<table border=\"1\" class=\"dataframe\">\n",
       "  <thead>\n",
       "    <tr style=\"text-align: right;\">\n",
       "      <th></th>\n",
       "      <th>Name</th>\n",
       "      <th>Latitude</th>\n",
       "      <th>Longitude</th>\n",
       "      <th>Address</th>\n",
       "    </tr>\n",
       "  </thead>\n",
       "  <tbody>\n",
       "    <tr>\n",
       "      <th>0</th>\n",
       "      <td>Pingtung County Fire Bureau</td>\n",
       "      <td>22.676946</td>\n",
       "      <td>120.498512</td>\n",
       "      <td>No. 47號, Shengli E Rd</td>\n",
       "    </tr>\n",
       "    <tr>\n",
       "      <th>1</th>\n",
       "      <td>屏東縣政府消防局第一大隊屏東第二分隊</td>\n",
       "      <td>22.638053</td>\n",
       "      <td>120.484698</td>\n",
       "      <td>No. 52號, Longhua Rd</td>\n",
       "    </tr>\n",
       "    <tr>\n",
       "      <th>2</th>\n",
       "      <td>Pingtung County Fire Bureau</td>\n",
       "      <td>22.693158</td>\n",
       "      <td>120.490289</td>\n",
       "      <td>No. 226號, Zhongxiao Rd</td>\n",
       "    </tr>\n",
       "    <tr>\n",
       "      <th>3</th>\n",
       "      <td>屏東縣政府消防局 第二大隊泰武分隊</td>\n",
       "      <td>22.592109</td>\n",
       "      <td>120.633653</td>\n",
       "      <td>佳平巷122號</td>\n",
       "    </tr>\n",
       "    <tr>\n",
       "      <th>4</th>\n",
       "      <td>Pingtung County Fire Bureau</td>\n",
       "      <td>22.704900</td>\n",
       "      <td>120.644437</td>\n",
       "      <td>風景路1-20號</td>\n",
       "    </tr>\n",
       "    <tr>\n",
       "      <th>5</th>\n",
       "      <td>Pingtung County Fire Bureau</td>\n",
       "      <td>22.693113</td>\n",
       "      <td>120.542558</td>\n",
       "      <td>No. 572號, Zhongxing Rd</td>\n",
       "    </tr>\n",
       "    <tr>\n",
       "      <th>6</th>\n",
       "      <td>屏東縣政府消防局 第二大隊竹田分隊</td>\n",
       "      <td>22.584257</td>\n",
       "      <td>120.545727</td>\n",
       "      <td>No. 41-20號, Ziqiang Rd</td>\n",
       "    </tr>\n",
       "    <tr>\n",
       "      <th>7</th>\n",
       "      <td>屏東縣政府消防局 第二大隊萬丹分隊</td>\n",
       "      <td>22.588452</td>\n",
       "      <td>120.485291</td>\n",
       "      <td>913No. 149號, Heping W Rd</td>\n",
       "    </tr>\n",
       "    <tr>\n",
       "      <th>8</th>\n",
       "      <td>屏東縣政府消防局 第二大隊潮州分隊</td>\n",
       "      <td>22.557773</td>\n",
       "      <td>120.543456</td>\n",
       "      <td>No. 191號, Wenhua Rd</td>\n",
       "    </tr>\n",
       "    <tr>\n",
       "      <th>9</th>\n",
       "      <td>屏東縣政府消防局 第二大隊內埔分隊</td>\n",
       "      <td>22.613773</td>\n",
       "      <td>120.566326</td>\n",
       "      <td>No. 209號, Guangji Rd</td>\n",
       "    </tr>\n",
       "    <tr>\n",
       "      <th>10</th>\n",
       "      <td>屏東縣災害應變中心</td>\n",
       "      <td>22.693158</td>\n",
       "      <td>120.490289</td>\n",
       "      <td>No. 226, Zhongxiao Rd</td>\n",
       "    </tr>\n",
       "    <tr>\n",
       "      <th>11</th>\n",
       "      <td>Pingtung County Fire Bureau</td>\n",
       "      <td>22.657662</td>\n",
       "      <td>120.526094</td>\n",
       "      <td>No. 192號, Chenggong Rd</td>\n",
       "    </tr>\n",
       "    <tr>\n",
       "      <th>12</th>\n",
       "      <td>屏東縣政府消防局 第二大隊萬巒分隊</td>\n",
       "      <td>22.572026</td>\n",
       "      <td>120.594127</td>\n",
       "      <td>No. 46號, Jiaxing Rd</td>\n",
       "    </tr>\n",
       "    <tr>\n",
       "      <th>13</th>\n",
       "      <td>屏東縣政府消防局 第二大隊龍泉分隊</td>\n",
       "      <td>22.669418</td>\n",
       "      <td>120.600285</td>\n",
       "      <td>No. 308號, Zhongsheng Rd</td>\n",
       "    </tr>\n",
       "    <tr>\n",
       "      <th>14</th>\n",
       "      <td>屏東縣政府消防局 特搜大隊</td>\n",
       "      <td>22.693132</td>\n",
       "      <td>120.542539</td>\n",
       "      <td>No. 572之2號, Zhongxing Rd</td>\n",
       "    </tr>\n",
       "  </tbody>\n",
       "</table>\n",
       "</div>"
      ],
      "text/plain": [
       "                           Name  ...                   Address\n",
       "0   Pingtung County Fire Bureau  ...     No. 47號, Shengli E Rd\n",
       "1            屏東縣政府消防局第一大隊屏東第二分隊  ...       No. 52號, Longhua Rd\n",
       "2   Pingtung County Fire Bureau  ...    No. 226號, Zhongxiao Rd\n",
       "3             屏東縣政府消防局 第二大隊泰武分隊  ...                   佳平巷122號\n",
       "4   Pingtung County Fire Bureau  ...                  風景路1-20號\n",
       "5   Pingtung County Fire Bureau  ...    No. 572號, Zhongxing Rd\n",
       "6             屏東縣政府消防局 第二大隊竹田分隊  ...    No. 41-20號, Ziqiang Rd\n",
       "7             屏東縣政府消防局 第二大隊萬丹分隊  ...  913No. 149號, Heping W Rd\n",
       "8             屏東縣政府消防局 第二大隊潮州分隊  ...       No. 191號, Wenhua Rd\n",
       "9             屏東縣政府消防局 第二大隊內埔分隊  ...      No. 209號, Guangji Rd\n",
       "10                    屏東縣災害應變中心  ...     No. 226, Zhongxiao Rd\n",
       "11  Pingtung County Fire Bureau  ...    No. 192號, Chenggong Rd\n",
       "12            屏東縣政府消防局 第二大隊萬巒分隊  ...       No. 46號, Jiaxing Rd\n",
       "13            屏東縣政府消防局 第二大隊龍泉分隊  ...   No. 308號, Zhongsheng Rd\n",
       "14                屏東縣政府消防局 特搜大隊  ...  No. 572之2號, Zhongxing Rd\n",
       "\n",
       "[15 rows x 4 columns]"
      ]
     },
     "execution_count": 8,
     "metadata": {},
     "output_type": "execute_result"
    }
   ],
   "source": [
    "loc = \"22.6236521\" + \"%2C\" + \"120.5675280\"  # input the random point's coordinate\n",
    "rad = \"10000\"  # how far you want to search\n",
    "keyword = \"fire station\"  # input any keyword you want to search\n",
    "api_key = \"\"  # Your Google Places API key\n",
    "url = f\"https://maps.googleapis.com/maps/api/place/nearbysearch/json?location={loc}&radius={rad}&keyword={keyword}&key={api_key}\"\n",
    "\n",
    "response = requests.get(url)\n",
    "data = response.json()\n",
    "\n",
    "# Extract fire stations\n",
    "fire_stations = [result for result in data['results'] if 'fire_station' in result.get('types', [])]\n",
    "\n",
    "# Create a DataFrame\n",
    "columns = ['Name', 'Latitude', 'Longitude', 'Address']\n",
    "data_list = []\n",
    "\n",
    "for station in fire_stations:\n",
    "    name = station.get('name', 'Unknown')\n",
    "    lat = station['geometry']['location']['lat']\n",
    "    lng = station['geometry']['location']['lng']\n",
    "    address = station.get('vicinity', 'Unknown')\n",
    "\n",
    "    data_list.append([name, lat, lng, address])\n",
    "\n",
    "df = pd.DataFrame(data_list, columns=columns)\n",
    "df\n"
   ]
  },
  {
   "cell_type": "code",
   "execution_count": 2,
   "metadata": {},
   "outputs": [],
   "source": [
    "gdf = gpd.GeoDataFrame(df, geometry=gpd.points_from_xy(df.Lng, df.Lat), crs=\"EPSG:4326\")\n",
    "# Convert the GeoDataFrame to GeoJSON\n",
    "gdf_json = gdf.to_crs(\"EPSG:4326\").to_json()\n",
    "\n",
    "#save the data\n",
    "gdf.to_file(\"fire_station.shp\")\n"
   ]
  },
  {
   "cell_type": "markdown",
   "metadata": {},
   "source": [
    "### Find the optimal route from fire stations to the incident location."
   ]
  },
  {
   "cell_type": "markdown",
   "metadata": {},
   "source": [
    "Utilize the \"Risk\" mode to avoid high-risk route"
   ]
  },
  {
   "cell_type": "code",
   "execution_count": null,
   "metadata": {},
   "outputs": [],
   "source": [
    "arcpy.na.MakeClosestFacilityAnalysisLayer(\n",
    "    network_data_source=r\"D:\\fall2023\\arc1\\project\\Network\\Network.gdb\\ND\\Driving6\",\n",
    "    layer_name=\"Closest Facility\",\n",
    "    travel_mode=\"risk\", # Depends on which mode you want to use\n",
    "    travel_direction=\"TO_FACILITIES\",\n",
    "    cutoff=None,\n",
    "    number_of_facilities_to_find=1,\n",
    "    time_of_day=None,\n",
    "    time_zone=\"LOCAL_TIME_AT_LOCATIONS\",\n",
    "    time_of_day_usage=\"START_TIME\",\n",
    "    line_shape=\"ALONG_NETWORK\",\n",
    "    accumulate_attributes=None,\n",
    "    generate_directions_on_solve=\"NO_DIRECTIONS\",\n",
    "    ignore_invalid_locations=\"SKIP\"\n",
    ")"
   ]
  },
  {
   "cell_type": "code",
   "execution_count": null,
   "metadata": {},
   "outputs": [],
   "source": [
    "# Add fire stations data\n",
    "arcpy.na.AddLocations(\n",
    "    in_network_analysis_layer=\"Closest Facility\",\n",
    "    sub_layer=\"Facilities\",\n",
    "    in_table=\"fire_station\",\n",
    "    field_mappings=\"Name Name #;CurbApproach # 0;Attr_TravelTime # 0;Attr_Length # 0;Attr_risk # 0;Cutoff_TravelTime # #;Cutoff_Length # #;Cutoff_risk # #\",\n",
    "    search_tolerance=\"20000 Meters\",\n",
    "    sort_field=None,\n",
    "    search_criteria=\"osm_road SHAPE;Driving6_Junctions NONE\",\n",
    "    match_type=\"MATCH_TO_CLOSEST\",\n",
    "    append=\"APPEND\",\n",
    "    snap_to_position_along_network=\"NO_SNAP\",\n",
    "    snap_offset=\"5 Meters\",\n",
    "    exclude_restricted_elements=\"EXCLUDE\",\n",
    "    search_query=None,\n",
    "    allow_auto_relocate=\"ALLOW\"\n",
    ")"
   ]
  },
  {
   "cell_type": "code",
   "execution_count": null,
   "metadata": {},
   "outputs": [],
   "source": [
    "# Add the random point you chose\n",
    "arcpy.na.AddLocations(\n",
    "    in_network_analysis_layer=\"Closest Facility\",\n",
    "    sub_layer=\"Incidents\",\n",
    "    in_table=r\"random_points\",\n",
    "    field_mappings=\"Name Name #;TargetFacilityCount TargetFacilityCount #;CurbApproach CurbApproach 0;Attr_Minutes # 0;Attr_TravelTime Attr_TravelTime 0;Attr_Miles # 0;Attr_Kilometers # 0;Attr_TimeAt1KPH # 0;Attr_WalkTime # 0;Attr_TruckMinutes # 0;Attr_TruckTravelTime # 0;Cutoff_Minutes # #;Cutoff_TravelTime Cutoff_TravelTime #;Cutoff_Miles # #;Cutoff_Kilometers # #;Cutoff_TimeAt1KPH # #;Cutoff_WalkTime # #;Cutoff_TruckMinutes # #;Cutoff_TruckTravelTime # #\",\n",
    "    search_tolerance=\"20000 Meters\",\n",
    "    sort_field=None,\n",
    "    search_criteria=\"main.Routing_Streets SHAPE\",\n",
    "    match_type=\"MATCH_TO_CLOSEST\",\n",
    "    append=\"APPEND\",\n",
    "    snap_to_position_along_network=\"NO_SNAP\",\n",
    "    snap_offset=\"5 Meters\",\n",
    "    exclude_restricted_elements=\"EXCLUDE\",\n",
    "    search_query=None,\n",
    "    allow_auto_relocate=\"ALLOW\"\n",
    ")"
   ]
  },
  {
   "cell_type": "code",
   "execution_count": null,
   "metadata": {},
   "outputs": [],
   "source": [
    "# run the network analysis\n",
    "arcpy.na.Solve(\n",
    "    in_network_analysis_layer=\"Closest Facility\",\n",
    "    ignore_invalids=\"SKIP\",\n",
    "    terminate_on_solve_error=\"TERMINATE\",\n",
    "    simplification_tolerance=None,\n",
    "    overrides=\"\"\n",
    ")"
   ]
  }
 ],
 "metadata": {
  "kernelspec": {
   "display_name": "ArcGISPro",
   "language": "Python",
   "name": "python3"
  },
  "language_info": {
   "file_extension": ".py",
   "name": "python",
   "version": "3"
  }
 },
 "nbformat": 4,
 "nbformat_minor": 2
}
